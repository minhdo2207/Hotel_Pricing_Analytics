{
 "cells": [
  {
   "cell_type": "markdown",
   "metadata": {},
   "source": [
    "## Importing libraries"
   ]
  },
  {
   "cell_type": "code",
   "execution_count": 39,
   "metadata": {},
   "outputs": [],
   "source": [
    "import pandas as pd\n",
    "import numpy as np\n",
    "from sklearn.neighbors import NearestNeighbors\n",
    "import math\n",
    "import matplotlib.pyplot as plt\n",
    "from PIL import Image\n",
    "import urllib.request\n",
    "from sklearn.metrics.pairwise import cosine_similarity\n",
    "from scipy import sparse\n",
    "import warnings\n",
    "warnings.filterwarnings(\"ignore\")"
   ]
  },
  {
   "cell_type": "markdown",
   "metadata": {},
   "source": [
    "## Importing Datasets"
   ]
  },
  {
   "cell_type": "code",
   "execution_count": 40,
   "metadata": {},
   "outputs": [],
   "source": [
    "df = pd.read_csv('../preprocessor/user_rating_cleaned.csv')\n",
    "movies_df = pd.read_csv('../preprocessor/movies_data_cleaned.csv', usecols=['movie_id', 'title', 'img_url'])\n"
   ]
  },
  {
   "cell_type": "code",
   "execution_count": 41,
   "metadata": {},
   "outputs": [
    {
     "data": {
      "text/html": [
       "<div>\n",
       "<style scoped>\n",
       "    .dataframe tbody tr th:only-of-type {\n",
       "        vertical-align: middle;\n",
       "    }\n",
       "\n",
       "    .dataframe tbody tr th {\n",
       "        vertical-align: top;\n",
       "    }\n",
       "\n",
       "    .dataframe thead th {\n",
       "        text-align: right;\n",
       "    }\n",
       "</style>\n",
       "<table border=\"1\" class=\"dataframe\">\n",
       "  <thead>\n",
       "    <tr style=\"text-align: right;\">\n",
       "      <th></th>\n",
       "      <th>user_id</th>\n",
       "      <th>movie_id</th>\n",
       "      <th>rating</th>\n",
       "    </tr>\n",
       "  </thead>\n",
       "  <tbody>\n",
       "    <tr>\n",
       "      <th>0</th>\n",
       "      <td>ur2326544</td>\n",
       "      <td>tt0377092</td>\n",
       "      <td>9</td>\n",
       "    </tr>\n",
       "    <tr>\n",
       "      <th>1</th>\n",
       "      <td>ur34845698</td>\n",
       "      <td>tt0377092</td>\n",
       "      <td>7</td>\n",
       "    </tr>\n",
       "    <tr>\n",
       "      <th>2</th>\n",
       "      <td>ur61691810</td>\n",
       "      <td>tt0377092</td>\n",
       "      <td>8</td>\n",
       "    </tr>\n",
       "    <tr>\n",
       "      <th>3</th>\n",
       "      <td>ur3032446</td>\n",
       "      <td>tt0377092</td>\n",
       "      <td>8</td>\n",
       "    </tr>\n",
       "    <tr>\n",
       "      <th>4</th>\n",
       "      <td>ur1406078</td>\n",
       "      <td>tt0377092</td>\n",
       "      <td>7</td>\n",
       "    </tr>\n",
       "  </tbody>\n",
       "</table>\n",
       "</div>"
      ],
      "text/plain": [
       "      user_id   movie_id  rating\n",
       "0   ur2326544  tt0377092       9\n",
       "1  ur34845698  tt0377092       7\n",
       "2  ur61691810  tt0377092       8\n",
       "3   ur3032446  tt0377092       8\n",
       "4   ur1406078  tt0377092       7"
      ]
     },
     "execution_count": 41,
     "metadata": {},
     "output_type": "execute_result"
    }
   ],
   "source": [
    "df.head()"
   ]
  },
  {
   "cell_type": "code",
   "execution_count": 42,
   "metadata": {},
   "outputs": [
    {
     "data": {
      "text/html": [
       "<div>\n",
       "<style scoped>\n",
       "    .dataframe tbody tr th:only-of-type {\n",
       "        vertical-align: middle;\n",
       "    }\n",
       "\n",
       "    .dataframe tbody tr th {\n",
       "        vertical-align: top;\n",
       "    }\n",
       "\n",
       "    .dataframe thead th {\n",
       "        text-align: right;\n",
       "    }\n",
       "</style>\n",
       "<table border=\"1\" class=\"dataframe\">\n",
       "  <thead>\n",
       "    <tr style=\"text-align: right;\">\n",
       "      <th></th>\n",
       "      <th>movie_id</th>\n",
       "      <th>title</th>\n",
       "      <th>img_url</th>\n",
       "    </tr>\n",
       "  </thead>\n",
       "  <tbody>\n",
       "    <tr>\n",
       "      <th>0</th>\n",
       "      <td>tt0068646</td>\n",
       "      <td>The Godfather</td>\n",
       "      <td>https://m.media-amazon.com/images/M/MV5BM2MyNj...</td>\n",
       "    </tr>\n",
       "    <tr>\n",
       "      <th>1</th>\n",
       "      <td>tt0816692</td>\n",
       "      <td>Interstellar</td>\n",
       "      <td>https://m.media-amazon.com/images/M/MV5BZjdkOT...</td>\n",
       "    </tr>\n",
       "    <tr>\n",
       "      <th>2</th>\n",
       "      <td>tt10638522</td>\n",
       "      <td>Talk to Me</td>\n",
       "      <td>https://m.media-amazon.com/images/M/MV5BMmY5ZG...</td>\n",
       "    </tr>\n",
       "    <tr>\n",
       "      <th>3</th>\n",
       "      <td>tt0120791</td>\n",
       "      <td>Practical Magic</td>\n",
       "      <td>https://m.media-amazon.com/images/M/MV5BMzU4Mm...</td>\n",
       "    </tr>\n",
       "    <tr>\n",
       "      <th>4</th>\n",
       "      <td>tt3774694</td>\n",
       "      <td>Love</td>\n",
       "      <td>https://m.media-amazon.com/images/M/MV5BZGQxZT...</td>\n",
       "    </tr>\n",
       "  </tbody>\n",
       "</table>\n",
       "</div>"
      ],
      "text/plain": [
       "     movie_id            title  \\\n",
       "0   tt0068646    The Godfather   \n",
       "1   tt0816692     Interstellar   \n",
       "2  tt10638522       Talk to Me   \n",
       "3   tt0120791  Practical Magic   \n",
       "4   tt3774694             Love   \n",
       "\n",
       "                                             img_url  \n",
       "0  https://m.media-amazon.com/images/M/MV5BM2MyNj...  \n",
       "1  https://m.media-amazon.com/images/M/MV5BZjdkOT...  \n",
       "2  https://m.media-amazon.com/images/M/MV5BMmY5ZG...  \n",
       "3  https://m.media-amazon.com/images/M/MV5BMzU4Mm...  \n",
       "4  https://m.media-amazon.com/images/M/MV5BZGQxZT...  "
      ]
     },
     "execution_count": 42,
     "metadata": {},
     "output_type": "execute_result"
    }
   ],
   "source": [
    "movies_df.head()"
   ]
  },
  {
   "cell_type": "markdown",
   "metadata": {},
   "source": [
    "## Functions to return dataset's features"
   ]
  },
  {
   "cell_type": "code",
   "execution_count": 43,
   "metadata": {},
   "outputs": [],
   "source": [
    "def get_movie_url(movie_id):\n",
    "    return movies_df[movies_df.movie_id == movie_id].img_url.values[0]\n",
    "\n",
    "def get_user_id(user_id_number):\n",
    "    return df[df.user_id_number == user_id_number].user_id.values[0]\n",
    "\n",
    "def get_movie_id(movie_id_number):\n",
    "    return df[df.movie_id_number == movie_id_number].movie_id.values[0]"
   ]
  },
  {
   "cell_type": "code",
   "execution_count": 44,
   "metadata": {},
   "outputs": [
    {
     "name": "stdout",
     "output_type": "stream",
     "text": [
      "[[39267 11304     9]\n",
      " [49619 11304     7]\n",
      " [64893 11304     8]\n",
      " ...\n",
      " [13362 26927     5]\n",
      " [71163 26927     1]\n",
      " [  499 26927     6]]\n"
     ]
    }
   ],
   "source": [
    "df['user_id_number'] = df['user_id'].astype('category').cat.codes.values\n",
    "df['movie_id_number'] = df['movie_id'].astype('category').cat.codes.values\n",
    "# df = df.groupby('user_id').filter(lambda x : len(x) >= 20)\n",
    "# df = df.groupby('movie_id').filter(lambda x : len(x) >= 10)\n",
    "Y_data = df[['user_id_number', 'movie_id_number', 'rating']].values\n",
    "print(Y_data)"
   ]
  },
  {
   "cell_type": "markdown",
   "metadata": {},
   "source": [
    "## Colaborative filtering model creation"
   ]
  },
  {
   "cell_type": "code",
   "execution_count": 45,
   "metadata": {},
   "outputs": [],
   "source": [
    "class Colaborative_Filtering(object):\n",
    "    def __init__(self, Y_data, dist_func = cosine_similarity):\n",
    "        self.Y_data = Y_data\n",
    "        self.dist_func = dist_func\n",
    "        self.Ybar_data = None\n",
    "        # number of users and items. Remember to add 1 since id starts from 0\n",
    "        self.n_users = int(np.max(self.Y_data[:, 0])) + 1\n",
    "        self.n_items = int(np.max(self.Y_data[:, 1])) + 1 \n",
    "    def create_model(self,k):\n",
    "        self.model = NearestNeighbors(n_neighbors=k,algorithm='brute',metric='cosine')\n",
    "        self.model.fit(self.interaction_matrix)\n",
    "        print('success')\n",
    "    def create_matrix(self):\n",
    "        #Create a sparse interaction matrix\n",
    "        self.interaction_matrix = sparse.coo_matrix((self.Y_data[:, 2],\n",
    "            (self.Y_data[:, 1], self.Y_data[:, 0])), (self.n_items, self.n_users))\n",
    "        self.interaction_matrix= self.interaction_matrix.tocsr()\n",
    "    def get_rated_movies(self,user_id):\n",
    "        self.movies_rated = df[['user_id_number','movie_id_number','rating']]\n",
    "        self.movies_rated = df.loc[df['user_id_number'] == user_id, ['user_id_number', 'movie_id_number', 'rating']]\n",
    "        self.movies_rated = pd.DataFrame(self.movies_rated, columns=['user_id_number', 'movie_id_number', 'rating'])\n",
    "        self.movies_rated= self.movies_rated[['movie_id_number','rating']].reset_index(drop=True)\n",
    "        return self.movies_rated\n",
    "    def calculate_score(self,user_id):\n",
    "        similar_candidates_rating= pd.Series(dtype='float64')\n",
    "        similar_candidates_score= pd.Series(dtype='float64')\n",
    "        # print(self.movies_rated)\n",
    "        self.movies_list=self.interaction_matrix.getcol(user_id).toarray()\n",
    "        self.movies_rated= self.movies_list\n",
    "        self.movies_list = np.where(self.movies_list != 0)[0]\n",
    "        \n",
    "        for movie in self.movies_list:\n",
    "            similar = self.model.kneighbors(\n",
    "                [self.interaction_matrix.getrow(movie).toarray().squeeze()],\n",
    "                return_distance=True\n",
    "            )\n",
    "            sim_score=similar[0]\n",
    "            sim_id=similar[1]\n",
    "            sim_id=np.array(list(map(lambda x: x,sim_id[0])))\n",
    "            similar=pd.Series(data=sim_score[0],index=sim_id)\n",
    "            similar=similar[similar!=0]\n",
    "            # similar=similar[similar.index.isin(stats.index)]\n",
    "            similar_candidates_score=pd.concat([similar_candidates_score,similar])\n",
    "            similar=similar.map(lambda x: x*self.movies_rated[movie])\n",
    "            similar_candidates_rating = pd.concat([similar_candidates_rating,similar])\n",
    "        filtered_candidates_rating_sum= similar_candidates_rating.groupby(similar_candidates_rating.index).sum()\n",
    "        filtered_candidates_score_sum= similar_candidates_score.groupby(similar_candidates_score.index).sum()\n",
    "        similar_movies=filtered_candidates_rating_sum.index\n",
    "        print(similar_movies)\n",
    "        pred_rating= pd.Series(dtype='float64',index=similar_movies)\n",
    "        for i in range(0,len(similar_movies)):\n",
    "            pred_rating[similar_movies[i]]= filtered_candidates_rating_sum[similar_movies[i]]/filtered_candidates_score_sum[similar_movies[i]]\n",
    "        return pred_rating"
   ]
  },
  {
   "cell_type": "markdown",
   "metadata": {},
   "source": [
    "## Create Colaborative filtering model"
   ]
  },
  {
   "cell_type": "code",
   "execution_count": 46,
   "metadata": {},
   "outputs": [],
   "source": [
    "recommender = Colaborative_Filtering(Y_data)\n",
    "recommender.create_matrix()"
   ]
  },
  {
   "cell_type": "markdown",
   "metadata": {},
   "source": [
    "## Elbow method to choose the k for knn model"
   ]
  },
  {
   "cell_type": "code",
   "execution_count": 47,
   "metadata": {},
   "outputs": [
    {
     "data": {
      "image/png": "[encoded data removed]",
      "text/plain": [
       "<Figure size 640x480 with 1 Axes>"
      ]
     },
     "metadata": {},
     "output_type": "display_data"
    },
    {
     "name": "stdout",
     "output_type": "stream",
     "text": [
      "Optimal value for n_neighbors: 4\n"
     ]
    }
   ],
   "source": [
    "# Range of k values to test\n",
    "k_values = range(1, 30)\n",
    "\n",
    "# List to store average distances\n",
    "avg_distances = []\n",
    "\n",
    "for k in k_values:\n",
    "    # Fit the model with the current value of k\n",
    "    model = NearestNeighbors(n_neighbors=k, algorithm='brute', metric='cosine')\n",
    "    model.fit(recommender.interaction_matrix)\n",
    "\n",
    "    # Find distances and indices of k nearest neighbors\n",
    "    distances, _ = model.kneighbors(recommender.interaction_matrix)\n",
    "\n",
    "    # Calculate average distance\n",
    "    avg_distance = distances.mean()\n",
    "    avg_distances.append(avg_distance)\n",
    "\n",
    "# Calculate differences between consecutive elements in avg_distances\n",
    "differences = np.diff(avg_distances)\n",
    "\n",
    "# Find the point where the rate of decrease slows down\n",
    "elbow_index = np.argmax(differences < 0.05)  # Adjust the threshold as needed\n",
    "\n",
    "# Get the optimal k value\n",
    "optimal_k = k_values[elbow_index]\n",
    "\n",
    "# Plot the elbow curve\n",
    "plt.plot(k_values, avg_distances, marker='o')\n",
    "plt.title('Elbow Method for Optimal n_neighbors')\n",
    "plt.xlabel('Number of Neighbors (k)')\n",
    "plt.ylabel('Average Distance')\n",
    "plt.show()\n",
    "\n",
    "print(f'Optimal value for n_neighbors: {optimal_k}')\n"
   ]
  },
  {
   "cell_type": "markdown",
   "metadata": {},
   "source": [
    "## Item-Based Colaborative filtering"
   ]
  },
  {
   "cell_type": "code",
   "execution_count": 51,
   "metadata": {},
   "outputs": [
    {
     "name": "stdout",
     "output_type": "stream",
     "text": [
      "success\n",
      "Index([ 1099,  1105,  1115,  1870,  3048,  4412,  4564,  4909,  5031,  6068,\n",
      "        7301,  9394, 10732, 10929, 11215, 11304, 11599, 12094, 12778, 13230,\n",
      "       13388, 13515, 13799, 13845, 16332, 16682, 16848, 17473, 17906, 19472,\n",
      "       21362, 21516, 24078],\n",
      "      dtype='int64')\n",
      "1099      7.0\n",
      "1105      4.0\n",
      "1115      4.0\n",
      "1870      7.0\n",
      "3048      8.0\n",
      "4412      4.0\n",
      "4564      7.0\n",
      "4909     10.0\n",
      "5031      7.0\n",
      "6068      1.0\n",
      "7301      7.0\n",
      "9394     10.0\n",
      "10732    10.0\n",
      "10929     7.0\n",
      "11215    10.0\n",
      "11304     8.0\n",
      "11599     3.0\n",
      "12094     7.0\n",
      "12778     7.0\n",
      "13230    10.0\n",
      "13388     1.0\n",
      "13515    10.0\n",
      "13799     3.0\n",
      "13845     3.0\n",
      "16332     8.0\n",
      "16682     8.0\n",
      "16848     1.0\n",
      "17473    10.0\n",
      "17906     7.0\n",
      "19472    10.0\n",
      "21362     7.0\n",
      "21516    10.0\n",
      "24078    10.0\n",
      "dtype: float64\n"
     ]
    }
   ],
   "source": [
    "# user_based_cf = CF(Y_data, k = 5, uuCF = 1)\n",
    "# user_based_cf.fit()\n",
    "\n",
    "recommender.create_model(k=optimal_k)\n",
    "user_id='ur3032446'\n",
    "\n",
    "# Check if there are any rows with the specified user_id\n",
    "matching_rows = df[df.user_id == user_id]\n",
    "\n",
    "if not matching_rows.empty:\n",
    "    # If there are matching rows, retrieve the user_id_number\n",
    "    user_id_number =matching_rows.values[0][3]\n",
    "    movies_rated=recommender.get_rated_movies(user_id_number)\n",
    "    pred_rating = recommender.calculate_score(user_id_number)\n",
    "else:\n",
    "    print(f\"No rows found for user_id: {user_id}\")\n",
    "print(pred_rating)"
   ]
  },
  {
   "cell_type": "markdown",
   "metadata": {},
   "source": [
    "## Convert movie_id_number to movie title"
   ]
  },
  {
   "cell_type": "code",
   "execution_count": 52,
   "metadata": {},
   "outputs": [
    {
     "data": {
      "text/html": [
       "<div>\n",
       "<style scoped>\n",
       "    .dataframe tbody tr th:only-of-type {\n",
       "        vertical-align: middle;\n",
       "    }\n",
       "\n",
       "    .dataframe tbody tr th {\n",
       "        vertical-align: top;\n",
       "    }\n",
       "\n",
       "    .dataframe thead th {\n",
       "        text-align: right;\n",
       "    }\n",
       "</style>\n",
       "<table border=\"1\" class=\"dataframe\">\n",
       "  <thead>\n",
       "    <tr style=\"text-align: right;\">\n",
       "      <th></th>\n",
       "      <th>movie_id</th>\n",
       "      <th>movie_id_number</th>\n",
       "      <th>title</th>\n",
       "    </tr>\n",
       "  </thead>\n",
       "  <tbody>\n",
       "    <tr>\n",
       "      <th>0</th>\n",
       "      <td>tt0377092</td>\n",
       "      <td>11304</td>\n",
       "      <td>Mean Girls</td>\n",
       "    </tr>\n",
       "    <tr>\n",
       "      <th>1</th>\n",
       "      <td>tt6710474</td>\n",
       "      <td>26424</td>\n",
       "      <td>Everything Everywhere All at Once</td>\n",
       "    </tr>\n",
       "    <tr>\n",
       "      <th>2</th>\n",
       "      <td>tt11127680</td>\n",
       "      <td>15241</td>\n",
       "      <td>Boiling Point</td>\n",
       "    </tr>\n",
       "    <tr>\n",
       "      <th>3</th>\n",
       "      <td>tt0095444</td>\n",
       "      <td>3766</td>\n",
       "      <td>Killer Klowns from Outer Space</td>\n",
       "    </tr>\n",
       "    <tr>\n",
       "      <th>4</th>\n",
       "      <td>tt15474916</td>\n",
       "      <td>18374</td>\n",
       "      <td>Smile</td>\n",
       "    </tr>\n",
       "    <tr>\n",
       "      <th>5</th>\n",
       "      <td>tt0477348</td>\n",
       "      <td>12966</td>\n",
       "      <td>No Country for Old Men</td>\n",
       "    </tr>\n",
       "    <tr>\n",
       "      <th>6</th>\n",
       "      <td>tt0091251</td>\n",
       "      <td>3448</td>\n",
       "      <td>Come and See</td>\n",
       "    </tr>\n",
       "    <tr>\n",
       "      <th>7</th>\n",
       "      <td>tt0083929</td>\n",
       "      <td>2908</td>\n",
       "      <td>Fast Times at Ridgemont High</td>\n",
       "    </tr>\n",
       "    <tr>\n",
       "      <th>8</th>\n",
       "      <td>tt0114814</td>\n",
       "      <td>5126</td>\n",
       "      <td>The Usual Suspects</td>\n",
       "    </tr>\n",
       "    <tr>\n",
       "      <th>9</th>\n",
       "      <td>tt0093177</td>\n",
       "      <td>3584</td>\n",
       "      <td>Hellraiser</td>\n",
       "    </tr>\n",
       "  </tbody>\n",
       "</table>\n",
       "</div>"
      ],
      "text/plain": [
       "     movie_id  movie_id_number                              title\n",
       "0   tt0377092            11304                         Mean Girls\n",
       "1   tt6710474            26424  Everything Everywhere All at Once\n",
       "2  tt11127680            15241                      Boiling Point\n",
       "3   tt0095444             3766     Killer Klowns from Outer Space\n",
       "4  tt15474916            18374                              Smile\n",
       "5   tt0477348            12966             No Country for Old Men\n",
       "6   tt0091251             3448                       Come and See\n",
       "7   tt0083929             2908       Fast Times at Ridgemont High\n",
       "8   tt0114814             5126                 The Usual Suspects\n",
       "9   tt0093177             3584                         Hellraiser"
      ]
     },
     "execution_count": 52,
     "metadata": {},
     "output_type": "execute_result"
    }
   ],
   "source": [
    "movie_id_convert =df[['movie_id','movie_id_number']]\n",
    "movie_id_convert= movie_id_convert.drop_duplicates()\n",
    "movie_title = movies_df[['movie_id','title']]\n",
    "movie_title_convert = pd.merge(movie_id_convert,movie_title)\n",
    "movie_title_convert.head(10)"
   ]
  },
  {
   "cell_type": "markdown",
   "metadata": {},
   "source": [
    "## Print recommendations"
   ]
  },
  {
   "cell_type": "code",
   "execution_count": 53,
   "metadata": {},
   "outputs": [
    {
     "name": "stdout",
     "output_type": "stream",
     "text": [
      "List of recommendations for user ur3032446\n"
     ]
    },
    {
     "data": {
      "text/html": [
       "<div>\n",
       "<style scoped>\n",
       "    .dataframe tbody tr th:only-of-type {\n",
       "        vertical-align: middle;\n",
       "    }\n",
       "\n",
       "    .dataframe tbody tr th {\n",
       "        vertical-align: top;\n",
       "    }\n",
       "\n",
       "    .dataframe thead th {\n",
       "        text-align: right;\n",
       "    }\n",
       "</style>\n",
       "<table border=\"1\" class=\"dataframe\">\n",
       "  <thead>\n",
       "    <tr style=\"text-align: right;\">\n",
       "      <th></th>\n",
       "      <th>movie_id</th>\n",
       "      <th>title</th>\n",
       "      <th>predicted_rating</th>\n",
       "    </tr>\n",
       "  </thead>\n",
       "  <tbody>\n",
       "    <tr>\n",
       "      <th>0</th>\n",
       "      <td>tt4230204</td>\n",
       "      <td>I Capuleti e i Montecchi</td>\n",
       "      <td>10.0</td>\n",
       "    </tr>\n",
       "    <tr>\n",
       "      <th>1</th>\n",
       "      <td>tt0276124</td>\n",
       "      <td>Falstaff</td>\n",
       "      <td>10.0</td>\n",
       "    </tr>\n",
       "    <tr>\n",
       "      <th>2</th>\n",
       "      <td>tt2391038</td>\n",
       "      <td>Looking Is the Original Sin</td>\n",
       "      <td>10.0</td>\n",
       "    </tr>\n",
       "    <tr>\n",
       "      <th>3</th>\n",
       "      <td>tt1795368</td>\n",
       "      <td>National Theatre Live: Fela!</td>\n",
       "      <td>10.0</td>\n",
       "    </tr>\n",
       "    <tr>\n",
       "      <th>4</th>\n",
       "      <td>tt0371977</td>\n",
       "      <td>Espelho d'Água: Uma Viagem no Rio São Francisco</td>\n",
       "      <td>10.0</td>\n",
       "    </tr>\n",
       "    <tr>\n",
       "      <th>5</th>\n",
       "      <td>tt1412593</td>\n",
       "      <td>Chepachet</td>\n",
       "      <td>10.0</td>\n",
       "    </tr>\n",
       "    <tr>\n",
       "      <th>6</th>\n",
       "      <td>tt0111517</td>\n",
       "      <td>Turn of the Blade</td>\n",
       "      <td>10.0</td>\n",
       "    </tr>\n",
       "    <tr>\n",
       "      <th>7</th>\n",
       "      <td>tt0495033</td>\n",
       "      <td>Gatão de Meia Idade</td>\n",
       "      <td>10.0</td>\n",
       "    </tr>\n",
       "    <tr>\n",
       "      <th>8</th>\n",
       "      <td>tt0343135</td>\n",
       "      <td>Along Came Polly</td>\n",
       "      <td>10.0</td>\n",
       "    </tr>\n",
       "    <tr>\n",
       "      <th>9</th>\n",
       "      <td>tt0808266</td>\n",
       "      <td>Fica Comigo Esta Noite</td>\n",
       "      <td>10.0</td>\n",
       "    </tr>\n",
       "  </tbody>\n",
       "</table>\n",
       "</div>"
      ],
      "text/plain": [
       "    movie_id                                            title  \\\n",
       "0  tt4230204                         I Capuleti e i Montecchi   \n",
       "1  tt0276124                                         Falstaff   \n",
       "2  tt2391038                      Looking Is the Original Sin   \n",
       "3  tt1795368                     National Theatre Live: Fela!   \n",
       "4  tt0371977  Espelho d'Água: Uma Viagem no Rio São Francisco   \n",
       "5  tt1412593                                        Chepachet   \n",
       "6  tt0111517                                Turn of the Blade   \n",
       "7  tt0495033                              Gatão de Meia Idade   \n",
       "8  tt0343135                                 Along Came Polly   \n",
       "9  tt0808266                           Fica Comigo Esta Noite   \n",
       "\n",
       "   predicted_rating  \n",
       "0              10.0  \n",
       "1              10.0  \n",
       "2              10.0  \n",
       "3              10.0  \n",
       "4              10.0  \n",
       "5              10.0  \n",
       "6              10.0  \n",
       "7              10.0  \n",
       "8              10.0  \n",
       "9              10.0  "
      ]
     },
     "execution_count": 53,
     "metadata": {},
     "output_type": "execute_result"
    }
   ],
   "source": [
    "print(\"List of recommendations for user {}\".format(user_id))\n",
    "pred_rating.sort_values(inplace=True,ascending=False)\n",
    "pred_rating_df = pd.DataFrame(pred_rating).reset_index()\n",
    "pred_rating_df.columns = ['movie_id_number', 'predicted_rating']\n",
    "final_pred_df = pd.merge(pred_rating_df,movie_id_convert)\n",
    "final_pred_df = pd.merge(final_pred_df,movies_df)\n",
    "final_pred_df = final_pred_df[['movie_id','title','predicted_rating']]\n",
    "final_pred_df.head(10)"
   ]
  }
 ],
 "metadata": {
  "kernelspec": {
   "display_name": "Python 3",
   "language": "python",
   "name": "python3"
  },
  "language_info": {
   "codemirror_mode": {
    "name": "ipython",
    "version": 3
   },
   "file_extension": ".py",
   "mimetype": "text/x-python",
   "name": "python",
   "nbconvert_exporter": "python",
   "pygments_lexer": "ipython3",
   "version": "3.11.5"
  }
 },
 "nbformat": 4,
 "nbformat_minor": 2
}
