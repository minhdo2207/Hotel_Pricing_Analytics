{
 "cells": [
  {
   "cell_type": "markdown",
   "id": "ffecb20b",
   "metadata": {},
   "source": [
    "# IMDB user data EDA and cleaning"
   ]
  },
  {
   "cell_type": "markdown",
   "id": "00234428",
   "metadata": {},
   "source": [
    "## Setup"
   ]
  },
  {
   "cell_type": "code",
   "execution_count": 1,
   "id": "20c468d4",
   "metadata": {},
   "outputs": [],
   "source": [
    "import pandas as pd\n",
    "import matplotlib.pyplot as plt\n",
    "import seaborn as sns\n",
    "import numpy as np\n",
    "\n",
    "import warnings\n",
    "warnings.filterwarnings(\"ignore\")"
   ]
  },
  {
   "cell_type": "code",
   "execution_count": 2,
   "id": "e057e19d",
   "metadata": {},
   "outputs": [],
   "source": [
    "path = 'data/IMDB'\n",
    "\n",
    "movies_raw = pd.read_csv(f'{path}/movies_data.csv')\n",
    "user_rating_raw = pd.read_csv(f'{path}/user_rating.csv')"
   ]
  },
  {
   "cell_type": "markdown",
   "id": "9541e14b",
   "metadata": {},
   "source": [
    "## Inspection"
   ]
  },
  {
   "cell_type": "markdown",
   "id": "067b6c94",
   "metadata": {},
   "source": [
    "### Movies"
   ]
  },
  {
   "cell_type": "code",
   "execution_count": 3,
   "id": "5d01eac6",
   "metadata": {},
   "outputs": [
    {
     "data": {
      "text/html": [
       "<div>\n",
       "<style scoped>\n",
       "    .dataframe tbody tr th:only-of-type {\n",
       "        vertical-align: middle;\n",
       "    }\n",
       "\n",
       "    .dataframe tbody tr th {\n",
       "        vertical-align: top;\n",
       "    }\n",
       "\n",
       "    .dataframe thead th {\n",
       "        text-align: right;\n",
       "    }\n",
       "</style>\n",
       "<table border=\"1\" class=\"dataframe\">\n",
       "  <thead>\n",
       "    <tr style=\"text-align: right;\">\n",
       "      <th></th>\n",
       "      <th>title</th>\n",
       "      <th>img_url</th>\n",
       "      <th>year</th>\n",
       "      <th>director</th>\n",
       "      <th>stars</th>\n",
       "      <th>duration</th>\n",
       "      <th>genres</th>\n",
       "      <th>overview</th>\n",
       "      <th>rating</th>\n",
       "      <th>num_rating</th>\n",
       "      <th>num_user_review</th>\n",
       "      <th>num_critic_review</th>\n",
       "      <th>budget</th>\n",
       "      <th>gross</th>\n",
       "      <th>country</th>\n",
       "      <th>metascore</th>\n",
       "      <th>oscar</th>\n",
       "      <th>win_and_nomination</th>\n",
       "      <th>url</th>\n",
       "    </tr>\n",
       "  </thead>\n",
       "  <tbody>\n",
       "    <tr>\n",
       "      <th>0</th>\n",
       "      <td>The Godfather</td>\n",
       "      <td>https://m.media-amazon.com/images/M/MV5BM2MyNj...</td>\n",
       "      <td>1972</td>\n",
       "      <td>Francis Ford Coppola</td>\n",
       "      <td>Marlon Brando,Al Pacino,James Caan,Marlon Bran...</td>\n",
       "      <td>2h 55m</td>\n",
       "      <td>Crime,Drama</td>\n",
       "      <td>Don Vito Corleone, head of a mafia family, dec...</td>\n",
       "      <td>9.2</td>\n",
       "      <td>2M</td>\n",
       "      <td>5.3K</td>\n",
       "      <td>206.0</td>\n",
       "      <td>$6,000,000 (estimated)</td>\n",
       "      <td>$250,341,816</td>\n",
       "      <td>United States</td>\n",
       "      <td>100.0</td>\n",
       "      <td>Won 3 Oscars</td>\n",
       "      <td>30 wins &amp; 31 nominations total</td>\n",
       "      <td>https://www.imdb.com/title/tt0068646/?ref_=adv...</td>\n",
       "    </tr>\n",
       "    <tr>\n",
       "      <th>1</th>\n",
       "      <td>Interstellar</td>\n",
       "      <td>https://m.media-amazon.com/images/M/MV5BZjdkOT...</td>\n",
       "      <td>2014</td>\n",
       "      <td>Christopher Nolan</td>\n",
       "      <td>Matthew McConaughey,Anne Hathaway,Jessica Chas...</td>\n",
       "      <td>2h 49m</td>\n",
       "      <td>Adventure,Drama,Sci-Fi</td>\n",
       "      <td>When Earth becomes uninhabitable in the future...</td>\n",
       "      <td>8.7</td>\n",
       "      <td>2M</td>\n",
       "      <td>5.5K</td>\n",
       "      <td>486.0</td>\n",
       "      <td>$165,000,000 (estimated)</td>\n",
       "      <td>$703,170,837</td>\n",
       "      <td>United States</td>\n",
       "      <td>74.0</td>\n",
       "      <td>Won 1 Oscar</td>\n",
       "      <td>44 wins &amp; 148 nominations total</td>\n",
       "      <td>https://www.imdb.com/title/tt0816692/?ref_=adv...</td>\n",
       "    </tr>\n",
       "    <tr>\n",
       "      <th>2</th>\n",
       "      <td>Talk to Me</td>\n",
       "      <td>https://m.media-amazon.com/images/M/MV5BMmY5ZG...</td>\n",
       "      <td>2022</td>\n",
       "      <td>Danny Philippou</td>\n",
       "      <td>Ari McCarthy,Hamish Phillips,Kit Erhart-Bruce,...</td>\n",
       "      <td>1h 35m</td>\n",
       "      <td>Horror,Thriller</td>\n",
       "      <td>When a group of friends discover how to conjur...</td>\n",
       "      <td>7.2</td>\n",
       "      <td>81K</td>\n",
       "      <td>485</td>\n",
       "      <td>251.0</td>\n",
       "      <td>$4,500,000 (estimated)</td>\n",
       "      <td>$90,030,033</td>\n",
       "      <td>Australia</td>\n",
       "      <td>76.0</td>\n",
       "      <td>NaN</td>\n",
       "      <td>NaN</td>\n",
       "      <td>https://www.imdb.com/title/tt10638522/?ref_=ad...</td>\n",
       "    </tr>\n",
       "    <tr>\n",
       "      <th>3</th>\n",
       "      <td>Practical Magic</td>\n",
       "      <td>https://m.media-amazon.com/images/M/MV5BMzU4Mm...</td>\n",
       "      <td>1998</td>\n",
       "      <td>Griffin Dunne</td>\n",
       "      <td>Sandra Bullock,Nicole Kidman,Stockard Channing...</td>\n",
       "      <td>1h 44m</td>\n",
       "      <td>Comedy,Drama,Fantasy</td>\n",
       "      <td>Two witch sisters, raised by their eccentric a...</td>\n",
       "      <td>6.3</td>\n",
       "      <td>90K</td>\n",
       "      <td>313</td>\n",
       "      <td>81.0</td>\n",
       "      <td>$75,000,000 (estimated)</td>\n",
       "      <td>$46,733,235</td>\n",
       "      <td>United States</td>\n",
       "      <td>46.0</td>\n",
       "      <td>Awards</td>\n",
       "      <td>1 win &amp; 6 nominations</td>\n",
       "      <td>https://www.imdb.com/title/tt0120791/?ref_=adv...</td>\n",
       "    </tr>\n",
       "    <tr>\n",
       "      <th>4</th>\n",
       "      <td>Love</td>\n",
       "      <td>https://m.media-amazon.com/images/M/MV5BZGQxZT...</td>\n",
       "      <td>2015</td>\n",
       "      <td>Gaspar Noé</td>\n",
       "      <td>Aomi Muyock,Karl Glusman,Klara Kristin,Aomi Mu...</td>\n",
       "      <td>2h 15m</td>\n",
       "      <td>Drama,Romance</td>\n",
       "      <td>Murphy is an American living in Paris who ente...</td>\n",
       "      <td>6.1</td>\n",
       "      <td>64K</td>\n",
       "      <td>177</td>\n",
       "      <td>200.0</td>\n",
       "      <td>$3,000,000 (estimated)</td>\n",
       "      <td>$861,057</td>\n",
       "      <td>France</td>\n",
       "      <td>51.0</td>\n",
       "      <td>Awards</td>\n",
       "      <td>2 wins &amp; 1 nomination</td>\n",
       "      <td>https://www.imdb.com/title/tt3774694/?ref_=adv...</td>\n",
       "    </tr>\n",
       "  </tbody>\n",
       "</table>\n",
       "</div>"
      ],
      "text/plain": [
       "             title                                            img_url  year  \\\n",
       "0    The Godfather  https://m.media-amazon.com/images/M/MV5BM2MyNj...  1972   \n",
       "1     Interstellar  https://m.media-amazon.com/images/M/MV5BZjdkOT...  2014   \n",
       "2       Talk to Me  https://m.media-amazon.com/images/M/MV5BMmY5ZG...  2022   \n",
       "3  Practical Magic  https://m.media-amazon.com/images/M/MV5BMzU4Mm...  1998   \n",
       "4             Love  https://m.media-amazon.com/images/M/MV5BZGQxZT...  2015   \n",
       "\n",
       "               director                                              stars  \\\n",
       "0  Francis Ford Coppola  Marlon Brando,Al Pacino,James Caan,Marlon Bran...   \n",
       "1     Christopher Nolan  Matthew McConaughey,Anne Hathaway,Jessica Chas...   \n",
       "2       Danny Philippou  Ari McCarthy,Hamish Phillips,Kit Erhart-Bruce,...   \n",
       "3         Griffin Dunne  Sandra Bullock,Nicole Kidman,Stockard Channing...   \n",
       "4            Gaspar Noé  Aomi Muyock,Karl Glusman,Klara Kristin,Aomi Mu...   \n",
       "\n",
       "  duration                  genres  \\\n",
       "0   2h 55m             Crime,Drama   \n",
       "1   2h 49m  Adventure,Drama,Sci-Fi   \n",
       "2   1h 35m         Horror,Thriller   \n",
       "3   1h 44m    Comedy,Drama,Fantasy   \n",
       "4   2h 15m           Drama,Romance   \n",
       "\n",
       "                                            overview  rating num_rating  \\\n",
       "0  Don Vito Corleone, head of a mafia family, dec...     9.2         2M   \n",
       "1  When Earth becomes uninhabitable in the future...     8.7         2M   \n",
       "2  When a group of friends discover how to conjur...     7.2        81K   \n",
       "3  Two witch sisters, raised by their eccentric a...     6.3        90K   \n",
       "4  Murphy is an American living in Paris who ente...     6.1        64K   \n",
       "\n",
       "  num_user_review  num_critic_review                    budget         gross  \\\n",
       "0            5.3K              206.0    $6,000,000 (estimated)  $250,341,816   \n",
       "1            5.5K              486.0  $165,000,000 (estimated)  $703,170,837   \n",
       "2             485              251.0    $4,500,000 (estimated)   $90,030,033   \n",
       "3             313               81.0   $75,000,000 (estimated)   $46,733,235   \n",
       "4             177              200.0    $3,000,000 (estimated)      $861,057   \n",
       "\n",
       "         country  metascore         oscar               win_and_nomination  \\\n",
       "0  United States      100.0  Won 3 Oscars   30 wins & 31 nominations total   \n",
       "1  United States       74.0   Won 1 Oscar  44 wins & 148 nominations total   \n",
       "2      Australia       76.0           NaN                              NaN   \n",
       "3  United States       46.0        Awards            1 win & 6 nominations   \n",
       "4         France       51.0        Awards            2 wins & 1 nomination   \n",
       "\n",
       "                                                 url  \n",
       "0  https://www.imdb.com/title/tt0068646/?ref_=adv...  \n",
       "1  https://www.imdb.com/title/tt0816692/?ref_=adv...  \n",
       "2  https://www.imdb.com/title/tt10638522/?ref_=ad...  \n",
       "3  https://www.imdb.com/title/tt0120791/?ref_=adv...  \n",
       "4  https://www.imdb.com/title/tt3774694/?ref_=adv...  "
      ]
     },
     "execution_count": 3,
     "metadata": {},
     "output_type": "execute_result"
    }
   ],
   "source": [
    "movies_raw.head()"
   ]
  },
  {
   "cell_type": "code",
   "execution_count": 4,
   "id": "91907fc0",
   "metadata": {},
   "outputs": [
    {
     "data": {
      "text/plain": [
       "(222169, 19)"
      ]
     },
     "execution_count": 4,
     "metadata": {},
     "output_type": "execute_result"
    }
   ],
   "source": [
    "movies_raw.shape"
   ]
  },
  {
   "cell_type": "code",
   "execution_count": 5,
   "id": "ec636d60",
   "metadata": {},
   "outputs": [
    {
     "data": {
      "text/plain": [
       "221199"
      ]
     },
     "execution_count": 5,
     "metadata": {},
     "output_type": "execute_result"
    }
   ],
   "source": [
    "movie_num = len(movies_raw)\n",
    "len(movies_raw[movies_raw.isnull().any(axis=1)])"
   ]
  },
  {
   "cell_type": "code",
   "execution_count": 6,
   "id": "27ebc7ce",
   "metadata": {},
   "outputs": [
    {
     "name": "stdout",
     "output_type": "stream",
     "text": [
      "<class 'pandas.core.frame.DataFrame'>\n",
      "RangeIndex: 222169 entries, 0 to 222168\n",
      "Data columns (total 19 columns):\n",
      " #   Column              Non-Null Count   Dtype  \n",
      "---  ------              --------------   -----  \n",
      " 0   title               222169 non-null  object \n",
      " 1   img_url             222169 non-null  object \n",
      " 2   year                222169 non-null  object \n",
      " 3   director            206284 non-null  object \n",
      " 4   stars               191677 non-null  object \n",
      " 5   duration            145469 non-null  object \n",
      " 6   genres              180838 non-null  object \n",
      " 7   overview            116945 non-null  object \n",
      " 8   rating              98497 non-null   float64\n",
      " 9   num_rating          98497 non-null   object \n",
      " 10  num_user_review     53422 non-null   object \n",
      " 11  num_critic_review   20743 non-null   float64\n",
      " 12  budget              39387 non-null   object \n",
      " 13  gross               13026 non-null   object \n",
      " 14  country             217128 non-null  object \n",
      " 15  metascore           2080 non-null    float64\n",
      " 16  oscar               30172 non-null   object \n",
      " 17  win_and_nomination  30173 non-null   object \n",
      " 18  url                 222169 non-null  object \n",
      "dtypes: float64(3), object(16)\n",
      "memory usage: 32.2+ MB\n"
     ]
    }
   ],
   "source": [
    "movies_raw.info()"
   ]
  },
  {
   "cell_type": "code",
   "execution_count": 7,
   "id": "c9d3a532",
   "metadata": {},
   "outputs": [
    {
     "data": {
      "text/html": [
       "<div>\n",
       "<style scoped>\n",
       "    .dataframe tbody tr th:only-of-type {\n",
       "        vertical-align: middle;\n",
       "    }\n",
       "\n",
       "    .dataframe tbody tr th {\n",
       "        vertical-align: top;\n",
       "    }\n",
       "\n",
       "    .dataframe thead th {\n",
       "        text-align: right;\n",
       "    }\n",
       "</style>\n",
       "<table border=\"1\" class=\"dataframe\">\n",
       "  <thead>\n",
       "    <tr style=\"text-align: right;\">\n",
       "      <th></th>\n",
       "      <th>rating</th>\n",
       "      <th>num_critic_review</th>\n",
       "      <th>metascore</th>\n",
       "    </tr>\n",
       "  </thead>\n",
       "  <tbody>\n",
       "    <tr>\n",
       "      <th>count</th>\n",
       "      <td>98497.000000</td>\n",
       "      <td>20743.000000</td>\n",
       "      <td>2080.000000</td>\n",
       "    </tr>\n",
       "    <tr>\n",
       "      <th>mean</th>\n",
       "      <td>6.048774</td>\n",
       "      <td>16.386299</td>\n",
       "      <td>58.651442</td>\n",
       "    </tr>\n",
       "    <tr>\n",
       "      <th>std</th>\n",
       "      <td>1.392288</td>\n",
       "      <td>51.851902</td>\n",
       "      <td>18.727564</td>\n",
       "    </tr>\n",
       "    <tr>\n",
       "      <th>min</th>\n",
       "      <td>1.000000</td>\n",
       "      <td>1.000000</td>\n",
       "      <td>1.000000</td>\n",
       "    </tr>\n",
       "    <tr>\n",
       "      <th>25%</th>\n",
       "      <td>5.200000</td>\n",
       "      <td>1.000000</td>\n",
       "      <td>46.000000</td>\n",
       "    </tr>\n",
       "    <tr>\n",
       "      <th>50%</th>\n",
       "      <td>6.100000</td>\n",
       "      <td>3.000000</td>\n",
       "      <td>59.000000</td>\n",
       "    </tr>\n",
       "    <tr>\n",
       "      <th>75%</th>\n",
       "      <td>7.000000</td>\n",
       "      <td>9.000000</td>\n",
       "      <td>72.000000</td>\n",
       "    </tr>\n",
       "    <tr>\n",
       "      <th>max</th>\n",
       "      <td>10.000000</td>\n",
       "      <td>848.000000</td>\n",
       "      <td>100.000000</td>\n",
       "    </tr>\n",
       "  </tbody>\n",
       "</table>\n",
       "</div>"
      ],
      "text/plain": [
       "             rating  num_critic_review    metascore\n",
       "count  98497.000000       20743.000000  2080.000000\n",
       "mean       6.048774          16.386299    58.651442\n",
       "std        1.392288          51.851902    18.727564\n",
       "min        1.000000           1.000000     1.000000\n",
       "25%        5.200000           1.000000    46.000000\n",
       "50%        6.100000           3.000000    59.000000\n",
       "75%        7.000000           9.000000    72.000000\n",
       "max       10.000000         848.000000   100.000000"
      ]
     },
     "execution_count": 7,
     "metadata": {},
     "output_type": "execute_result"
    }
   ],
   "source": [
    "movies_raw.describe()"
   ]
  },
  {
   "cell_type": "code",
   "execution_count": 8,
   "id": "5dffd31b",
   "metadata": {},
   "outputs": [
    {
     "data": {
      "text/plain": [
       "Broken                               28\n",
       "Macbeth                              20\n",
       "Alone                                18\n",
       "Karma                                18\n",
       "Retribution                          17\n",
       "                                     ..\n",
       "Podslushannyy razgovor                1\n",
       "OL Wakazuma jokôsei: Renzoku bôkô     1\n",
       "Bangarada Gudi                        1\n",
       "Dianfeng zhanshi                      1\n",
       "The Dark Knight                       1\n",
       "Name: title, Length: 207443, dtype: int64"
      ]
     },
     "execution_count": 8,
     "metadata": {},
     "output_type": "execute_result"
    }
   ],
   "source": [
    "movies_raw.title.value_counts()"
   ]
  },
  {
   "cell_type": "code",
   "execution_count": 9,
   "id": "b74cae2f",
   "metadata": {},
   "outputs": [
    {
     "data": {
      "text/plain": [
       "0.0"
      ]
     },
     "execution_count": 9,
     "metadata": {},
     "output_type": "execute_result"
    }
   ],
   "source": [
    "movies_raw.title.isnull().sum() / movie_num * 100"
   ]
  },
  {
   "cell_type": "code",
   "execution_count": 10,
   "id": "6b614bd5",
   "metadata": {},
   "outputs": [
    {
     "data": {
      "text/plain": [
       "https://m.media-amazon.com/images/G/01/imdb/images/social/imdb_logo.png                                                                       72187\n",
       "https://m.media-amazon.com/images/M/MV5BZDViMjUzMDctN2NhNS00NmZlLTg3OTQtZjIxNjMyNDlkMzdjXkEyXkFqcGdeQXVyMTk1MjA1NjU@._V1_FMjpg_UX1000_.jpg        5\n",
       "https://m.media-amazon.com/images/M/MV5BMTI0MzE2NzQ3Nl5BMl5BanBnXkFtZTcwODg4NzQzMQ@@._V1_FMjpg_UX1000_.jpg                                        4\n",
       "https://m.media-amazon.com/images/M/MV5BNWM0ZDkwNjQtM2FiOS00OTllLTk2ZTEtZDJkNDhhNjUxYWZjXkEyXkFqcGdeQXVyNjUzNzQ4NDQ@._V1_FMjpg_UX1000_.jpg        3\n",
       "https://m.media-amazon.com/images/M/MV5BNDI5YWU2YjAtOTYwZC00ZjYzLWIzNDYtNTcxMzVkODY3YzVlXkEyXkFqcGdeQXVyMTQwMzQ1MA@@._V1_FMjpg_UX1000_.jpg        3\n",
       "                                                                                                                                              ...  \n",
       "https://m.media-amazon.com/images/M/MV5BNDcyN2E1NmQtZjg1MS00NWU2LWJkNGYtYzBlOTBjM2VmNDMzXkEyXkFqcGdeQXVyNDcyNjc5MzY@._V1_FMjpg_UX1000_.jpg        1\n",
       "https://m.media-amazon.com/images/M/MV5BYjMwOGI0MjgtNWM4My00Mzg1LWE3MjctY2MxZWU1YTI4NGYxXkEyXkFqcGdeQXVyMTI5Njk4Mzg2._V1_FMjpg_UX1000_.jpg        1\n",
       "https://m.media-amazon.com/images/M/MV5BNTU4NmI5ZGMtMjZlNy00ODY5LWJjOWQtOTVkZTA0NDQ3YWJlXkEyXkFqcGdeQXVyODY5NDAxNzA@._V1_FMjpg_UX1000_.jpg        1\n",
       "https://m.media-amazon.com/images/M/MV5BMWU0OWY1Y2MtYjY0Ny00Nzg1LWIzN2QtYjM3ZGJiZWVmM2FkXkEyXkFqcGdeQXVyMjU4OTI3OA@@._V1_FMjpg_UX1000_.jpg        1\n",
       "https://m.media-amazon.com/images/M/MV5BMTMxNTMwODM0NF5BMl5BanBnXkFtZTcwODAyMTk2Mw@@._V1_FMjpg_UX1000_.jpg                                        1\n",
       "Name: img_url, Length: 149935, dtype: int64"
      ]
     },
     "execution_count": 10,
     "metadata": {},
     "output_type": "execute_result"
    }
   ],
   "source": [
    "movies_raw.img_url.value_counts()"
   ]
  },
  {
   "cell_type": "code",
   "execution_count": 11,
   "id": "6a890ff5",
   "metadata": {},
   "outputs": [
    {
     "data": {
      "text/plain": [
       "0.0"
      ]
     },
     "execution_count": 11,
     "metadata": {},
     "output_type": "execute_result"
    }
   ],
   "source": [
    "movies_raw.img_url.isnull().sum() / movie_num * 100"
   ]
  },
  {
   "cell_type": "code",
   "execution_count": 12,
   "id": "4efb7ae0",
   "metadata": {},
   "outputs": [
    {
     "data": {
      "text/plain": [
       "2018      5721\n",
       "2022      5679\n",
       "2016      5679\n",
       "2017      5633\n",
       "2021      5246\n",
       "          ... \n",
       "1979.0       1\n",
       "1984.0       1\n",
       "1962.0       1\n",
       "1977.0       1\n",
       "1936         1\n",
       "Name: year, Length: 216, dtype: int64"
      ]
     },
     "execution_count": 12,
     "metadata": {},
     "output_type": "execute_result"
    }
   ],
   "source": [
    "movies_raw.year.value_counts()"
   ]
  },
  {
   "cell_type": "code",
   "execution_count": 13,
   "id": "9368b2f1",
   "metadata": {},
   "outputs": [
    {
     "data": {
      "text/plain": [
       "0.0"
      ]
     },
     "execution_count": 13,
     "metadata": {},
     "output_type": "execute_result"
    }
   ],
   "source": [
    "movies_raw.year.isnull().sum() / movie_num * 100"
   ]
  },
  {
   "cell_type": "code",
   "execution_count": 14,
   "id": "dc67daa4",
   "metadata": {},
   "outputs": [
    {
     "data": {
      "text/plain": [
       "Kinya Ogawa            427\n",
       "Satoru Kobayashi       370\n",
       "Minoru Inao            336\n",
       "Sakae Nitta            235\n",
       "Kaoru Umezawa          209\n",
       "                      ... \n",
       "Hideto Mori              1\n",
       "Anthony Salgado          1\n",
       "Steve Echendu            1\n",
       "Gennadiy Ostrovskiy      1\n",
       "T.J. Gnanavel            1\n",
       "Name: director, Length: 98094, dtype: int64"
      ]
     },
     "execution_count": 14,
     "metadata": {},
     "output_type": "execute_result"
    }
   ],
   "source": [
    "movies_raw.director.value_counts()"
   ]
  },
  {
   "cell_type": "code",
   "execution_count": 15,
   "id": "6d9780bd",
   "metadata": {},
   "outputs": [
    {
     "data": {
      "text/plain": [
       "7.1499624159986315"
      ]
     },
     "execution_count": 15,
     "metadata": {},
     "output_type": "execute_result"
    }
   ],
   "source": [
    "movies_raw.director.isnull().sum() / movie_num * 100"
   ]
  },
  {
   "cell_type": "code",
   "execution_count": 16,
   "id": "072596e7",
   "metadata": {},
   "outputs": [
    {
     "data": {
      "text/plain": [
       "Bill Corbett,Kevin Murphy,Michael J. Nelson,Bill Corbett,Kevin Murphy,Michael J. Nelson              148\n",
       "Tito Sotto,Vic Sotto,Joey De Leon,Tito Sotto,Vic Sotto,Joey De Leon                                   26\n",
       "Bahadur,Adoor Bhasi,Jayabharathi,Bahadur,Adoor Bhasi,Jayabharathi                                     24\n",
       "Michael J. Nelson,Bill Corbett,Kevin Murphy,Michael J. Nelson,Bill Corbett,Kevin Murphy               23\n",
       "Bridget Jones,Mary Jo Pehl,Bridget Jones,Mary Jo Pehl                                                 22\n",
       "                                                                                                    ... \n",
       "Mugaya Faisal,Allan King Jr.,Moreen Logose,Mugaya Faisal,Allan King Jr.,Moreen Logose                  1\n",
       "Vishal Deep,Jayendra,Varsha Sharma,Vishal Deep,Jayendra,Varsha Sharma                                  1\n",
       "Sibelle Hu,Fu-Chien Chang,Ah-Lang,Sibelle Hu,Fu-Chien Chang,Ah-Lang                                    1\n",
       "Tanushree Chatterjee,Poonam Dubey,Awdhesh Mishra,Tanushree Chatterjee,Poonam Dubey,Awdhesh Mishra      1\n",
       "Christian Bale,Heath Ledger,Aaron Eckhart,Christian Bale,Heath Ledger,Aaron Eckhart                    1\n",
       "Name: stars, Length: 188678, dtype: int64"
      ]
     },
     "execution_count": 16,
     "metadata": {},
     "output_type": "execute_result"
    }
   ],
   "source": [
    "movies_raw.stars.value_counts()"
   ]
  },
  {
   "cell_type": "code",
   "execution_count": 17,
   "id": "e6ee7adc",
   "metadata": {},
   "outputs": [
    {
     "data": {
      "text/plain": [
       "13.72468706255148"
      ]
     },
     "execution_count": 17,
     "metadata": {},
     "output_type": "execute_result"
    }
   ],
   "source": [
    "movies_raw.stars.isnull().sum() / movie_num * 100"
   ]
  },
  {
   "cell_type": "code",
   "execution_count": 18,
   "id": "7a2a8b4b",
   "metadata": {},
   "outputs": [
    {
     "data": {
      "text/plain": [
       "1h 30m    11669\n",
       "1h 20m     4526\n",
       "1h 25m     4470\n",
       "1h 40m     4342\n",
       "1h 35m     4192\n",
       "          ...  \n",
       "7h 15m        1\n",
       "7h 40m        1\n",
       "4h 43m        1\n",
       "5h 7m         1\n",
       "4h 29m        1\n",
       "Name: duration, Length: 385, dtype: int64"
      ]
     },
     "execution_count": 18,
     "metadata": {},
     "output_type": "execute_result"
    }
   ],
   "source": [
    "movies_raw.duration.value_counts()"
   ]
  },
  {
   "cell_type": "code",
   "execution_count": 19,
   "id": "c06fd5cd",
   "metadata": {},
   "outputs": [
    {
     "data": {
      "text/plain": [
       "34.5232683227633"
      ]
     },
     "execution_count": 19,
     "metadata": {},
     "output_type": "execute_result"
    }
   ],
   "source": [
    "movies_raw.duration.isnull().sum() / movie_num * 100"
   ]
  },
  {
   "cell_type": "code",
   "execution_count": 20,
   "id": "0d4c0086",
   "metadata": {},
   "outputs": [
    {
     "data": {
      "text/plain": [
       "Drama                         56992\n",
       "Comedy                        19954\n",
       "Action                         7716\n",
       "Horror                         5514\n",
       "Drama,Romance                  5082\n",
       "                              ...  \n",
       "Fantasy,Family,Action             1\n",
       "Animation,Mystery,Thriller        1\n",
       "Comedy,Crime,Action               1\n",
       "History,Horror,Mystery            1\n",
       "Drama,Film-Noir                   1\n",
       "Name: genres, Length: 1306, dtype: int64"
      ]
     },
     "execution_count": 20,
     "metadata": {},
     "output_type": "execute_result"
    }
   ],
   "source": [
    "movies_raw.genres.value_counts()"
   ]
  },
  {
   "cell_type": "code",
   "execution_count": 21,
   "id": "d59bcc48",
   "metadata": {},
   "outputs": [
    {
     "data": {
      "text/plain": [
       "18.60340551562099"
      ]
     },
     "execution_count": 21,
     "metadata": {},
     "output_type": "execute_result"
    }
   ],
   "source": [
    "movies_raw.genres.isnull().sum() / movie_num * 100"
   ]
  },
  {
   "cell_type": "code",
   "execution_count": 22,
   "id": "ece197e4",
   "metadata": {},
   "outputs": [
    {
     "data": {
      "text/plain": [
       "Plot unknown.                                                                                                                                                                                                                                                                                                                                                                            9\n",
       "THIS IS AN ACTION-DRAMA FILM.                                                                                                                                                                                                                                                                                                                                                            8\n",
       "THIS IS AN ACTION FILM.                                                                                                                                                                                                                                                                                                                                                                  7\n",
       "FOR ADULTS ONLY.                                                                                                                                                                                                                                                                                                                                                                         6\n",
       "THIS IS A SEX-DRAMA FILM.                                                                                                                                                                                                                                                                                                                                                                6\n",
       "                                                                                                                                                                                                                                                                                                                                                                                        ..\n",
       "When a gang of thugs shoot up the neighborhood a young mother makes a decision that will change their lives forever.....inspired by actual events.                                                                                                                                                                                                                                       1\n",
       "Hear the story of Rumi and his transformation from a scholar and teacher to a mystic and Sufi poet after his encounter with Shams of Tabriz. In a guided meditation, connect with the Beloved as you dance with Tumi and the whirling dervishes. When viewing this DVD, you become part of the Sacred Circle as Diana gives psychic messages and wise guidance for unleashing grea...    1\n",
       "Holmes experts around the world got together to present and debate on what the current productions of the Holmes name contributed to the Legacy of Sherlock Holmes.                                                                                                                                                                                                                      1\n",
       "Marty Valdini is an ex-magician, heroin junkie, that cons money out of business owners and other magicians in order to compliment his habit. Filmed in a 1960's-type style and setting, with period appropriate attire and set design, MOJ is a step back into a dark time.                                                                                                              1\n",
       "When the menace known as the Joker wreaks havoc and chaos on the people of Gotham, Batman must accept one of the greatest psychological and physical tests of his ability to fight injustice.                                                                                                                                                                                            1\n",
       "Name: overview, Length: 116702, dtype: int64"
      ]
     },
     "execution_count": 22,
     "metadata": {},
     "output_type": "execute_result"
    }
   ],
   "source": [
    "movies_raw.overview.value_counts()"
   ]
  },
  {
   "cell_type": "code",
   "execution_count": 23,
   "id": "11ad36f8",
   "metadata": {},
   "outputs": [
    {
     "data": {
      "text/plain": [
       "47.36214323330438"
      ]
     },
     "execution_count": 23,
     "metadata": {},
     "output_type": "execute_result"
    }
   ],
   "source": [
    "movies_raw.overview.isnull().sum() / movie_num * 100"
   ]
  },
  {
   "cell_type": "code",
   "execution_count": 24,
   "id": "537c4ee4",
   "metadata": {},
   "outputs": [
    {
     "data": {
      "text/plain": [
       "6.2     3400\n",
       "6.4     3195\n",
       "6.6     3140\n",
       "6.8     3096\n",
       "6.0     3054\n",
       "        ... \n",
       "9.7       30\n",
       "1.0       20\n",
       "1.1       18\n",
       "10.0      11\n",
       "9.9        9\n",
       "Name: rating, Length: 91, dtype: int64"
      ]
     },
     "execution_count": 24,
     "metadata": {},
     "output_type": "execute_result"
    }
   ],
   "source": [
    "movies_raw.rating.value_counts()"
   ]
  },
  {
   "cell_type": "code",
   "execution_count": 25,
   "id": "9781d301",
   "metadata": {},
   "outputs": [
    {
     "data": {
      "text/plain": [
       "55.6657319428003"
      ]
     },
     "execution_count": 25,
     "metadata": {},
     "output_type": "execute_result"
    }
   ],
   "source": [
    "movies_raw.rating.isnull().sum() / movie_num * 100"
   ]
  },
  {
   "cell_type": "code",
   "execution_count": 26,
   "id": "1163ba25",
   "metadata": {},
   "outputs": [
    {
     "data": {
      "text/plain": [
       "9       3502\n",
       "10      3452\n",
       "8       3438\n",
       "11      3262\n",
       "12      3077\n",
       "        ... \n",
       "740K       1\n",
       "138K       1\n",
       "557K       1\n",
       "848        1\n",
       "1.9M       1\n",
       "Name: num_rating, Length: 1467, dtype: int64"
      ]
     },
     "execution_count": 26,
     "metadata": {},
     "output_type": "execute_result"
    }
   ],
   "source": [
    "movies_raw.num_rating.value_counts()"
   ]
  },
  {
   "cell_type": "code",
   "execution_count": 27,
   "id": "2277c226",
   "metadata": {},
   "outputs": [
    {
     "data": {
      "text/plain": [
       "55.6657319428003"
      ]
     },
     "execution_count": 27,
     "metadata": {},
     "output_type": "execute_result"
    }
   ],
   "source": [
    "movies_raw.num_rating.isnull().sum() / movie_num * 100"
   ]
  },
  {
   "cell_type": "code",
   "execution_count": 28,
   "id": "1b211be1",
   "metadata": {},
   "outputs": [
    {
     "data": {
      "text/plain": [
       "1.0     15000\n",
       "1       11496\n",
       "2        5032\n",
       "2.0      3801\n",
       "3        2735\n",
       "        ...  \n",
       "564         1\n",
       "181         1\n",
       "245         1\n",
       "449         1\n",
       "8.5K        1\n",
       "Name: num_user_review, Length: 620, dtype: int64"
      ]
     },
     "execution_count": 28,
     "metadata": {},
     "output_type": "execute_result"
    }
   ],
   "source": [
    "movies_raw.num_user_review.value_counts()"
   ]
  },
  {
   "cell_type": "code",
   "execution_count": 29,
   "id": "f0b2e087",
   "metadata": {},
   "outputs": [
    {
     "data": {
      "text/plain": [
       "75.954341064685"
      ]
     },
     "execution_count": 29,
     "metadata": {},
     "output_type": "execute_result"
    }
   ],
   "source": [
    "movies_raw.num_user_review.isnull().sum() / movie_num * 100"
   ]
  },
  {
   "cell_type": "code",
   "execution_count": 30,
   "id": "0d163ee5",
   "metadata": {},
   "outputs": [
    {
     "data": {
      "text/plain": [
       "1.0      5755\n",
       "2.0      3111\n",
       "3.0      1937\n",
       "4.0      1434\n",
       "5.0      1037\n",
       "         ... \n",
       "675.0       1\n",
       "264.0       1\n",
       "749.0       1\n",
       "304.0       1\n",
       "379.0       1\n",
       "Name: num_critic_review, Length: 404, dtype: int64"
      ]
     },
     "execution_count": 30,
     "metadata": {},
     "output_type": "execute_result"
    }
   ],
   "source": [
    "movies_raw.num_critic_review.value_counts()"
   ]
  },
  {
   "cell_type": "code",
   "execution_count": 31,
   "id": "eb9b6c2e",
   "metadata": {},
   "outputs": [
    {
     "data": {
      "text/plain": [
       "90.66341388762609"
      ]
     },
     "execution_count": 31,
     "metadata": {},
     "output_type": "execute_result"
    }
   ],
   "source": [
    "movies_raw.num_critic_review.isnull().sum() / movie_num * 100"
   ]
  },
  {
   "cell_type": "code",
   "execution_count": 32,
   "id": "5f9720af",
   "metadata": {},
   "outputs": [
    {
     "data": {
      "text/plain": [
       "$10,000 (estimated)          1786\n",
       "$5,000 (estimated)           1113\n",
       "$100,000 (estimated)         1078\n",
       "$50,000 (estimated)           920\n",
       "$20,000 (estimated)           788\n",
       "                             ... \n",
       "DKK 2,500 (estimated)           1\n",
       "BTN 1,000,000 (estimated)       1\n",
       "€4,350 (estimated)              1\n",
       "A$25 (estimated)                1\n",
       "$185,000,000 (estimated)        1\n",
       "Name: budget, Length: 5657, dtype: int64"
      ]
     },
     "execution_count": 32,
     "metadata": {},
     "output_type": "execute_result"
    }
   ],
   "source": [
    "movies_raw.budget.value_counts()"
   ]
  },
  {
   "cell_type": "code",
   "execution_count": 33,
   "id": "fecc0710",
   "metadata": {},
   "outputs": [
    {
     "data": {
      "text/plain": [
       "82.27160404916978"
      ]
     },
     "execution_count": 33,
     "metadata": {},
     "output_type": "execute_result"
    }
   ],
   "source": [
    "movies_raw.budget.isnull().sum() / movie_num * 100"
   ]
  },
  {
   "cell_type": "code",
   "execution_count": 34,
   "id": "1823b9c9",
   "metadata": {},
   "outputs": [
    {
     "data": {
      "text/plain": [
       "$4,198            4\n",
       "$2,963            4\n",
       "$7,634            4\n",
       "$681              3\n",
       "$2,506            3\n",
       "                 ..\n",
       "$442,481          1\n",
       "$1,252,355        1\n",
       "$1,730,110        1\n",
       "$197,117          1\n",
       "$1,007,257,536    1\n",
       "Name: gross, Length: 12567, dtype: int64"
      ]
     },
     "execution_count": 34,
     "metadata": {},
     "output_type": "execute_result"
    }
   ],
   "source": [
    "movies_raw.gross.value_counts()"
   ]
  },
  {
   "cell_type": "code",
   "execution_count": 35,
   "id": "fcaba349",
   "metadata": {},
   "outputs": [
    {
     "data": {
      "text/plain": [
       "94.13689578654088"
      ]
     },
     "execution_count": 35,
     "metadata": {},
     "output_type": "execute_result"
    }
   ],
   "source": [
    "movies_raw.gross.isnull().sum() / movie_num * 100"
   ]
  },
  {
   "cell_type": "code",
   "execution_count": 36,
   "id": "1a2291d6",
   "metadata": {},
   "outputs": [
    {
     "data": {
      "text/plain": [
       "United States                       42350\n",
       "India                               28402\n",
       "Japan                               17760\n",
       "United Kingdom                       7335\n",
       "Philippines                          6366\n",
       "                                    ...  \n",
       "Saint Vincent and the Grenadines        1\n",
       "Martinique                              1\n",
       "New Caledonia                           1\n",
       "Seychelles                              1\n",
       "Kiribati                                1\n",
       "Name: country, Length: 219, dtype: int64"
      ]
     },
     "execution_count": 36,
     "metadata": {},
     "output_type": "execute_result"
    }
   ],
   "source": [
    "movies_raw.country.value_counts()"
   ]
  },
  {
   "cell_type": "code",
   "execution_count": 37,
   "id": "b16ed4f7",
   "metadata": {},
   "outputs": [
    {
     "data": {
      "text/plain": [
       "2.2689934239250302"
      ]
     },
     "execution_count": 37,
     "metadata": {},
     "output_type": "execute_result"
    }
   ],
   "source": [
    "movies_raw.country.isnull().sum() / movie_num * 100"
   ]
  },
  {
   "cell_type": "code",
   "execution_count": 38,
   "id": "3766fb6b",
   "metadata": {},
   "outputs": [
    {
     "data": {
      "text/plain": [
       "52.0    53\n",
       "54.0    51\n",
       "66.0    48\n",
       "68.0    47\n",
       "55.0    47\n",
       "        ..\n",
       "9.0      2\n",
       "13.0     2\n",
       "6.0      1\n",
       "12.0     1\n",
       "10.0     1\n",
       "Name: metascore, Length: 95, dtype: int64"
      ]
     },
     "execution_count": 38,
     "metadata": {},
     "output_type": "execute_result"
    }
   ],
   "source": [
    "movies_raw.metascore.value_counts()"
   ]
  },
  {
   "cell_type": "code",
   "execution_count": 39,
   "id": "9039754b",
   "metadata": {},
   "outputs": [
    {
     "data": {
      "text/plain": [
       "99.06377577429795"
      ]
     },
     "execution_count": 39,
     "metadata": {},
     "output_type": "execute_result"
    }
   ],
   "source": [
    "movies_raw.metascore.isnull().sum() / movie_num * 100"
   ]
  },
  {
   "cell_type": "code",
   "execution_count": 40,
   "id": "ef163390",
   "metadata": {},
   "outputs": [
    {
     "data": {
      "text/plain": [
       "Awards                             29634\n",
       "Nominated for 1 Oscar                145\n",
       "Won 1 Oscar                           70\n",
       "Nominated for 1 BAFTA Award           61\n",
       "Nominated for 2 Oscars                44\n",
       "Won 2 Oscars                          37\n",
       "Won 1 BAFTA Award                     30\n",
       "Won 3 Oscars                          22\n",
       "Nominated for 3 Oscars                19\n",
       "Nominated for 4 Oscars                17\n",
       "Won 4 Oscars                          16\n",
       "Won 5 Oscars                          11\n",
       "Won 7 Oscars                           8\n",
       "Nominated for 2 BAFTA Awards           8\n",
       "Nominated for 5 Oscars                 6\n",
       "Nominated for 7 Oscars                 5\n",
       "Nominated for 6 Oscars                 5\n",
       "Won 6 Oscars                           5\n",
       "Nominated for 4 BAFTA Awards           4\n",
       "Nominated for 1 Primetime Emmy         4\n",
       "Won 8 Oscars                           3\n",
       "Won 2 BAFTA Awards                     3\n",
       "Won 1 Primetime Emmy                   3\n",
       "Won 3 BAFTA Awards                     2\n",
       "Won 11 Oscars                          2\n",
       "Nominated for 5 BAFTA Awards           1\n",
       "Nominated for 8 Oscars                 1\n",
       "Won 10 Oscars                          1\n",
       "Nominated for 2 Primetime Emmys        1\n",
       "Won 9 Oscars                           1\n",
       "Nominated for 6 Primetime Emmys        1\n",
       "Nominated for 3 BAFTA Awards           1\n",
       "Won 2 Primetime Emmys                  1\n",
       "Name: oscar, dtype: int64"
      ]
     },
     "execution_count": 40,
     "metadata": {},
     "output_type": "execute_result"
    }
   ],
   "source": [
    "movies_raw.oscar.value_counts()"
   ]
  },
  {
   "cell_type": "code",
   "execution_count": 41,
   "id": "873904b9",
   "metadata": {},
   "outputs": [
    {
     "data": {
      "text/plain": [
       "86.41934743371037"
      ]
     },
     "execution_count": 41,
     "metadata": {},
     "output_type": "execute_result"
    }
   ],
   "source": [
    "movies_raw.oscar.isnull().sum() / movie_num * 100"
   ]
  },
  {
   "cell_type": "code",
   "execution_count": 42,
   "id": "b2c5b719",
   "metadata": {},
   "outputs": [
    {
     "data": {
      "text/plain": [
       "1 nomination                        6132\n",
       "1 win                               5987\n",
       "1 win & 1 nomination                1841\n",
       "2 wins                              1732\n",
       "2 nominations                       1685\n",
       "                                    ... \n",
       "18 wins & 36 nominations               1\n",
       "22 wins & 41 nominations               1\n",
       "26 wins & 16 nominations               1\n",
       "21 wins & 27 nominations               1\n",
       "162 wins & 164 nominations total       1\n",
       "Name: win_and_nomination, Length: 1053, dtype: int64"
      ]
     },
     "execution_count": 42,
     "metadata": {},
     "output_type": "execute_result"
    }
   ],
   "source": [
    "movies_raw.win_and_nomination.value_counts()"
   ]
  },
  {
   "cell_type": "code",
   "execution_count": 43,
   "id": "483d0229",
   "metadata": {},
   "outputs": [
    {
     "data": {
      "text/plain": [
       "86.41889732590955"
      ]
     },
     "execution_count": 43,
     "metadata": {},
     "output_type": "execute_result"
    }
   ],
   "source": [
    "movies_raw.win_and_nomination.isnull().sum() / movie_num * 100"
   ]
  },
  {
   "cell_type": "code",
   "execution_count": 44,
   "id": "cee032d9",
   "metadata": {},
   "outputs": [
    {
     "data": {
      "text/plain": [
       "https://www.imdb.com/title/tt0096283/?ref_=adv_li_tt     2\n",
       "https://www.imdb.com/title/tt0068646/?ref_=adv_li_tt     1\n",
       "https://www.imdb.com/title/tt1582505/?ref_=adv_li_tt     1\n",
       "https://www.imdb.com/title/tt9430740/?ref_=adv_li_tt     1\n",
       "https://www.imdb.com/title/tt11291244/?ref_=adv_li_tt    1\n",
       "                                                        ..\n",
       "https://www.imdb.com/title/tt26628653/?ref_=adv_li_tt    1\n",
       "https://www.imdb.com/title/tt0185310/?ref_=adv_li_tt     1\n",
       "https://www.imdb.com/title/tt0331884/?ref_=adv_li_tt     1\n",
       "https://www.imdb.com/title/tt0312453/?ref_=adv_li_tt     1\n",
       "https://www.imdb.com/title/tt0468569/?ref_=adv_li_tt     1\n",
       "Name: url, Length: 222168, dtype: int64"
      ]
     },
     "execution_count": 44,
     "metadata": {},
     "output_type": "execute_result"
    }
   ],
   "source": [
    "movies_raw.url.value_counts()"
   ]
  },
  {
   "cell_type": "code",
   "execution_count": 45,
   "id": "4f897a4e",
   "metadata": {},
   "outputs": [
    {
     "data": {
      "text/plain": [
       "0.0"
      ]
     },
     "execution_count": 45,
     "metadata": {},
     "output_type": "execute_result"
    }
   ],
   "source": [
    "movies_raw.url.isnull().sum() / movie_num * 100"
   ]
  },
  {
   "cell_type": "markdown",
   "id": "be0dfa26",
   "metadata": {},
   "source": [
    "### Users"
   ]
  },
  {
   "cell_type": "code",
   "execution_count": 46,
   "id": "12b803b2",
   "metadata": {},
   "outputs": [
    {
     "data": {
      "text/html": [
       "<div>\n",
       "<style scoped>\n",
       "    .dataframe tbody tr th:only-of-type {\n",
       "        vertical-align: middle;\n",
       "    }\n",
       "\n",
       "    .dataframe tbody tr th {\n",
       "        vertical-align: top;\n",
       "    }\n",
       "\n",
       "    .dataframe thead th {\n",
       "        text-align: right;\n",
       "    }\n",
       "</style>\n",
       "<table border=\"1\" class=\"dataframe\">\n",
       "  <thead>\n",
       "    <tr style=\"text-align: right;\">\n",
       "      <th></th>\n",
       "      <th>user_id</th>\n",
       "      <th>movie_id</th>\n",
       "      <th>rating</th>\n",
       "    </tr>\n",
       "  </thead>\n",
       "  <tbody>\n",
       "    <tr>\n",
       "      <th>0</th>\n",
       "      <td>ur2326544</td>\n",
       "      <td>tt0377092</td>\n",
       "      <td>9</td>\n",
       "    </tr>\n",
       "    <tr>\n",
       "      <th>1</th>\n",
       "      <td>ur34845698</td>\n",
       "      <td>tt0377092</td>\n",
       "      <td>7</td>\n",
       "    </tr>\n",
       "    <tr>\n",
       "      <th>2</th>\n",
       "      <td>ur61691810</td>\n",
       "      <td>tt0377092</td>\n",
       "      <td>8</td>\n",
       "    </tr>\n",
       "    <tr>\n",
       "      <th>3</th>\n",
       "      <td>ur3032446</td>\n",
       "      <td>tt0377092</td>\n",
       "      <td>8</td>\n",
       "    </tr>\n",
       "    <tr>\n",
       "      <th>4</th>\n",
       "      <td>ur1406078</td>\n",
       "      <td>tt0377092</td>\n",
       "      <td>7</td>\n",
       "    </tr>\n",
       "  </tbody>\n",
       "</table>\n",
       "</div>"
      ],
      "text/plain": [
       "      user_id   movie_id  rating\n",
       "0   ur2326544  tt0377092       9\n",
       "1  ur34845698  tt0377092       7\n",
       "2  ur61691810  tt0377092       8\n",
       "3   ur3032446  tt0377092       8\n",
       "4   ur1406078  tt0377092       7"
      ]
     },
     "execution_count": 46,
     "metadata": {},
     "output_type": "execute_result"
    }
   ],
   "source": [
    "user_rating_raw.head()"
   ]
  },
  {
   "cell_type": "code",
   "execution_count": 47,
   "id": "70eb46c9",
   "metadata": {},
   "outputs": [
    {
     "data": {
      "text/plain": [
       "(996961, 3)"
      ]
     },
     "execution_count": 47,
     "metadata": {},
     "output_type": "execute_result"
    }
   ],
   "source": [
    "user_rating_raw.shape"
   ]
  },
  {
   "cell_type": "code",
   "execution_count": 48,
   "id": "9d466367",
   "metadata": {},
   "outputs": [
    {
     "data": {
      "text/plain": [
       "0"
      ]
     },
     "execution_count": 48,
     "metadata": {},
     "output_type": "execute_result"
    }
   ],
   "source": [
    "len(user_rating_raw[user_rating_raw.isnull().any(axis=1)])"
   ]
  },
  {
   "cell_type": "code",
   "execution_count": 49,
   "id": "559b1fc5",
   "metadata": {},
   "outputs": [
    {
     "name": "stdout",
     "output_type": "stream",
     "text": [
      "<class 'pandas.core.frame.DataFrame'>\n",
      "RangeIndex: 996961 entries, 0 to 996960\n",
      "Data columns (total 3 columns):\n",
      " #   Column    Non-Null Count   Dtype \n",
      "---  ------    --------------   ----- \n",
      " 0   user_id   996961 non-null  object\n",
      " 1   movie_id  996961 non-null  object\n",
      " 2   rating    996961 non-null  int64 \n",
      "dtypes: int64(1), object(2)\n",
      "memory usage: 22.8+ MB\n"
     ]
    }
   ],
   "source": [
    "user_rating_raw.info()"
   ]
  },
  {
   "cell_type": "code",
   "execution_count": 50,
   "id": "f4b40778",
   "metadata": {},
   "outputs": [
    {
     "data": {
      "text/html": [
       "<div>\n",
       "<style scoped>\n",
       "    .dataframe tbody tr th:only-of-type {\n",
       "        vertical-align: middle;\n",
       "    }\n",
       "\n",
       "    .dataframe tbody tr th {\n",
       "        vertical-align: top;\n",
       "    }\n",
       "\n",
       "    .dataframe thead th {\n",
       "        text-align: right;\n",
       "    }\n",
       "</style>\n",
       "<table border=\"1\" class=\"dataframe\">\n",
       "  <thead>\n",
       "    <tr style=\"text-align: right;\">\n",
       "      <th></th>\n",
       "      <th>rating</th>\n",
       "    </tr>\n",
       "  </thead>\n",
       "  <tbody>\n",
       "    <tr>\n",
       "      <th>count</th>\n",
       "      <td>996961.000000</td>\n",
       "    </tr>\n",
       "    <tr>\n",
       "      <th>mean</th>\n",
       "      <td>6.472424</td>\n",
       "    </tr>\n",
       "    <tr>\n",
       "      <th>std</th>\n",
       "      <td>2.890230</td>\n",
       "    </tr>\n",
       "    <tr>\n",
       "      <th>min</th>\n",
       "      <td>1.000000</td>\n",
       "    </tr>\n",
       "    <tr>\n",
       "      <th>25%</th>\n",
       "      <td>4.000000</td>\n",
       "    </tr>\n",
       "    <tr>\n",
       "      <th>50%</th>\n",
       "      <td>7.000000</td>\n",
       "    </tr>\n",
       "    <tr>\n",
       "      <th>75%</th>\n",
       "      <td>9.000000</td>\n",
       "    </tr>\n",
       "    <tr>\n",
       "      <th>max</th>\n",
       "      <td>10.000000</td>\n",
       "    </tr>\n",
       "  </tbody>\n",
       "</table>\n",
       "</div>"
      ],
      "text/plain": [
       "              rating\n",
       "count  996961.000000\n",
       "mean        6.472424\n",
       "std         2.890230\n",
       "min         1.000000\n",
       "25%         4.000000\n",
       "50%         7.000000\n",
       "75%         9.000000\n",
       "max        10.000000"
      ]
     },
     "execution_count": 50,
     "metadata": {},
     "output_type": "execute_result"
    }
   ],
   "source": [
    "user_rating_raw.describe()"
   ]
  },
  {
   "cell_type": "code",
   "execution_count": 51,
   "id": "a2a6ccfd",
   "metadata": {
    "scrolled": true
   },
   "outputs": [
    {
     "data": {
      "text/plain": [
       "ur0482513      8586\n",
       "ur77881167     5857\n",
       "ur2898520      5510\n",
       "ur5876717      5293\n",
       "ur2488512      4930\n",
       "               ... \n",
       "ur123961992       1\n",
       "ur17573055        1\n",
       "ur2368127         1\n",
       "ur5826614         1\n",
       "ur31053161        1\n",
       "Name: user_id, Length: 351731, dtype: int64"
      ]
     },
     "execution_count": 51,
     "metadata": {},
     "output_type": "execute_result"
    }
   ],
   "source": [
    "user_rating_raw.user_id.value_counts()"
   ]
  },
  {
   "cell_type": "code",
   "execution_count": 52,
   "id": "9a2f0da1",
   "metadata": {},
   "outputs": [
    {
     "data": {
      "text/plain": [
       "(0, 351731)"
      ]
     },
     "execution_count": 52,
     "metadata": {},
     "output_type": "execute_result"
    }
   ],
   "source": [
    "user_rating_raw.user_id.isnull().sum(), len(user_rating_raw.user_id.unique())"
   ]
  },
  {
   "cell_type": "code",
   "execution_count": 53,
   "id": "d1305028",
   "metadata": {
    "scrolled": true
   },
   "outputs": [
    {
     "data": {
      "text/plain": [
       "tt2537176     37\n",
       "tt0059448     36\n",
       "tt0061720     36\n",
       "tt0219854     36\n",
       "tt10168670    35\n",
       "              ..\n",
       "tt0808312      1\n",
       "tt6159738      1\n",
       "tt0160237      1\n",
       "tt0473401      1\n",
       "tt0100794      1\n",
       "Name: movie_id, Length: 120676, dtype: int64"
      ]
     },
     "execution_count": 53,
     "metadata": {},
     "output_type": "execute_result"
    }
   ],
   "source": [
    "user_rating_raw.movie_id.value_counts()"
   ]
  },
  {
   "cell_type": "code",
   "execution_count": 54,
   "id": "922f4610",
   "metadata": {},
   "outputs": [
    {
     "data": {
      "text/plain": [
       "(0, 120676)"
      ]
     },
     "execution_count": 54,
     "metadata": {},
     "output_type": "execute_result"
    }
   ],
   "source": [
    "user_rating_raw.movie_id.isnull().sum(), len(user_rating_raw.movie_id.unique())"
   ]
  },
  {
   "cell_type": "code",
   "execution_count": 55,
   "id": "c4e1629b",
   "metadata": {
    "scrolled": true
   },
   "outputs": [
    {
     "data": {
      "text/plain": [
       "10    180468\n",
       "8     152993\n",
       "7     135101\n",
       "9     107653\n",
       "1      96433\n",
       "6      96411\n",
       "5      71620\n",
       "4      56013\n",
       "3      51957\n",
       "2      48312\n",
       "Name: rating, dtype: int64"
      ]
     },
     "execution_count": 55,
     "metadata": {},
     "output_type": "execute_result"
    }
   ],
   "source": [
    "user_rating_raw.rating.value_counts()"
   ]
  },
  {
   "cell_type": "code",
   "execution_count": 56,
   "id": "ca8318fb",
   "metadata": {},
   "outputs": [
    {
     "data": {
      "text/plain": [
       "(0, 10)"
      ]
     },
     "execution_count": 56,
     "metadata": {},
     "output_type": "execute_result"
    }
   ],
   "source": [
    "user_rating_raw.rating.isnull().sum(), len(user_rating_raw.rating.unique())"
   ]
  },
  {
   "cell_type": "markdown",
   "id": "cc9f1a36",
   "metadata": {},
   "source": [
    "## Cleaning"
   ]
  },
  {
   "cell_type": "code",
   "execution_count": 57,
   "id": "9682ec89",
   "metadata": {},
   "outputs": [
    {
     "data": {
      "text/html": [
       "<div>\n",
       "<style scoped>\n",
       "    .dataframe tbody tr th:only-of-type {\n",
       "        vertical-align: middle;\n",
       "    }\n",
       "\n",
       "    .dataframe tbody tr th {\n",
       "        vertical-align: top;\n",
       "    }\n",
       "\n",
       "    .dataframe thead th {\n",
       "        text-align: right;\n",
       "    }\n",
       "</style>\n",
       "<table border=\"1\" class=\"dataframe\">\n",
       "  <thead>\n",
       "    <tr style=\"text-align: right;\">\n",
       "      <th></th>\n",
       "      <th>title</th>\n",
       "      <th>img_url</th>\n",
       "      <th>rating</th>\n",
       "      <th>url</th>\n",
       "    </tr>\n",
       "  </thead>\n",
       "  <tbody>\n",
       "    <tr>\n",
       "      <th>0</th>\n",
       "      <td>The Godfather</td>\n",
       "      <td>https://m.media-amazon.com/images/M/MV5BM2MyNj...</td>\n",
       "      <td>9.2</td>\n",
       "      <td>https://www.imdb.com/title/tt0068646/?ref_=adv...</td>\n",
       "    </tr>\n",
       "    <tr>\n",
       "      <th>1</th>\n",
       "      <td>Interstellar</td>\n",
       "      <td>https://m.media-amazon.com/images/M/MV5BZjdkOT...</td>\n",
       "      <td>8.7</td>\n",
       "      <td>https://www.imdb.com/title/tt0816692/?ref_=adv...</td>\n",
       "    </tr>\n",
       "    <tr>\n",
       "      <th>2</th>\n",
       "      <td>Talk to Me</td>\n",
       "      <td>https://m.media-amazon.com/images/M/MV5BMmY5ZG...</td>\n",
       "      <td>7.2</td>\n",
       "      <td>https://www.imdb.com/title/tt10638522/?ref_=ad...</td>\n",
       "    </tr>\n",
       "    <tr>\n",
       "      <th>3</th>\n",
       "      <td>Practical Magic</td>\n",
       "      <td>https://m.media-amazon.com/images/M/MV5BMzU4Mm...</td>\n",
       "      <td>6.3</td>\n",
       "      <td>https://www.imdb.com/title/tt0120791/?ref_=adv...</td>\n",
       "    </tr>\n",
       "    <tr>\n",
       "      <th>4</th>\n",
       "      <td>Love</td>\n",
       "      <td>https://m.media-amazon.com/images/M/MV5BZGQxZT...</td>\n",
       "      <td>6.1</td>\n",
       "      <td>https://www.imdb.com/title/tt3774694/?ref_=adv...</td>\n",
       "    </tr>\n",
       "  </tbody>\n",
       "</table>\n",
       "</div>"
      ],
      "text/plain": [
       "             title                                            img_url  rating  \\\n",
       "0    The Godfather  https://m.media-amazon.com/images/M/MV5BM2MyNj...     9.2   \n",
       "1     Interstellar  https://m.media-amazon.com/images/M/MV5BZjdkOT...     8.7   \n",
       "2       Talk to Me  https://m.media-amazon.com/images/M/MV5BMmY5ZG...     7.2   \n",
       "3  Practical Magic  https://m.media-amazon.com/images/M/MV5BMzU4Mm...     6.3   \n",
       "4             Love  https://m.media-amazon.com/images/M/MV5BZGQxZT...     6.1   \n",
       "\n",
       "                                                 url  \n",
       "0  https://www.imdb.com/title/tt0068646/?ref_=adv...  \n",
       "1  https://www.imdb.com/title/tt0816692/?ref_=adv...  \n",
       "2  https://www.imdb.com/title/tt10638522/?ref_=ad...  \n",
       "3  https://www.imdb.com/title/tt0120791/?ref_=adv...  \n",
       "4  https://www.imdb.com/title/tt3774694/?ref_=adv...  "
      ]
     },
     "execution_count": 57,
     "metadata": {},
     "output_type": "execute_result"
    }
   ],
   "source": [
    "movies = movies_raw[['title', 'img_url', 'rating', 'url']]\n",
    "movies.head()"
   ]
  },
  {
   "cell_type": "code",
   "execution_count": 58,
   "id": "29360065",
   "metadata": {
    "scrolled": true
   },
   "outputs": [
    {
     "data": {
      "text/html": [
       "<div>\n",
       "<style scoped>\n",
       "    .dataframe tbody tr th:only-of-type {\n",
       "        vertical-align: middle;\n",
       "    }\n",
       "\n",
       "    .dataframe tbody tr th {\n",
       "        vertical-align: top;\n",
       "    }\n",
       "\n",
       "    .dataframe thead th {\n",
       "        text-align: right;\n",
       "    }\n",
       "</style>\n",
       "<table border=\"1\" class=\"dataframe\">\n",
       "  <thead>\n",
       "    <tr style=\"text-align: right;\">\n",
       "      <th></th>\n",
       "      <th>title</th>\n",
       "      <th>img_url</th>\n",
       "      <th>rating</th>\n",
       "      <th>url</th>\n",
       "      <th>id</th>\n",
       "    </tr>\n",
       "  </thead>\n",
       "  <tbody>\n",
       "    <tr>\n",
       "      <th>0</th>\n",
       "      <td>The Godfather</td>\n",
       "      <td>https://m.media-amazon.com/images/M/MV5BM2MyNj...</td>\n",
       "      <td>9.2</td>\n",
       "      <td>https://www.imdb.com/title/tt0068646/?ref_=adv...</td>\n",
       "      <td>tt0068646</td>\n",
       "    </tr>\n",
       "    <tr>\n",
       "      <th>1</th>\n",
       "      <td>Interstellar</td>\n",
       "      <td>https://m.media-amazon.com/images/M/MV5BZjdkOT...</td>\n",
       "      <td>8.7</td>\n",
       "      <td>https://www.imdb.com/title/tt0816692/?ref_=adv...</td>\n",
       "      <td>tt0816692</td>\n",
       "    </tr>\n",
       "    <tr>\n",
       "      <th>2</th>\n",
       "      <td>Talk to Me</td>\n",
       "      <td>https://m.media-amazon.com/images/M/MV5BMmY5ZG...</td>\n",
       "      <td>7.2</td>\n",
       "      <td>https://www.imdb.com/title/tt10638522/?ref_=ad...</td>\n",
       "      <td>tt10638522</td>\n",
       "    </tr>\n",
       "    <tr>\n",
       "      <th>3</th>\n",
       "      <td>Practical Magic</td>\n",
       "      <td>https://m.media-amazon.com/images/M/MV5BMzU4Mm...</td>\n",
       "      <td>6.3</td>\n",
       "      <td>https://www.imdb.com/title/tt0120791/?ref_=adv...</td>\n",
       "      <td>tt0120791</td>\n",
       "    </tr>\n",
       "    <tr>\n",
       "      <th>4</th>\n",
       "      <td>Love</td>\n",
       "      <td>https://m.media-amazon.com/images/M/MV5BZGQxZT...</td>\n",
       "      <td>6.1</td>\n",
       "      <td>https://www.imdb.com/title/tt3774694/?ref_=adv...</td>\n",
       "      <td>tt3774694</td>\n",
       "    </tr>\n",
       "  </tbody>\n",
       "</table>\n",
       "</div>"
      ],
      "text/plain": [
       "             title                                            img_url  rating  \\\n",
       "0    The Godfather  https://m.media-amazon.com/images/M/MV5BM2MyNj...     9.2   \n",
       "1     Interstellar  https://m.media-amazon.com/images/M/MV5BZjdkOT...     8.7   \n",
       "2       Talk to Me  https://m.media-amazon.com/images/M/MV5BMmY5ZG...     7.2   \n",
       "3  Practical Magic  https://m.media-amazon.com/images/M/MV5BMzU4Mm...     6.3   \n",
       "4             Love  https://m.media-amazon.com/images/M/MV5BZGQxZT...     6.1   \n",
       "\n",
       "                                                 url          id  \n",
       "0  https://www.imdb.com/title/tt0068646/?ref_=adv...   tt0068646  \n",
       "1  https://www.imdb.com/title/tt0816692/?ref_=adv...   tt0816692  \n",
       "2  https://www.imdb.com/title/tt10638522/?ref_=ad...  tt10638522  \n",
       "3  https://www.imdb.com/title/tt0120791/?ref_=adv...   tt0120791  \n",
       "4  https://www.imdb.com/title/tt3774694/?ref_=adv...   tt3774694  "
      ]
     },
     "execution_count": 58,
     "metadata": {},
     "output_type": "execute_result"
    }
   ],
   "source": [
    "movies['id'] = movies_raw.url.apply(lambda x: x.split('/')[4])\n",
    "movies.head()"
   ]
  },
  {
   "cell_type": "code",
   "execution_count": 59,
   "id": "68956059",
   "metadata": {},
   "outputs": [
    {
     "data": {
      "text/html": [
       "<div>\n",
       "<style scoped>\n",
       "    .dataframe tbody tr th:only-of-type {\n",
       "        vertical-align: middle;\n",
       "    }\n",
       "\n",
       "    .dataframe tbody tr th {\n",
       "        vertical-align: top;\n",
       "    }\n",
       "\n",
       "    .dataframe thead th {\n",
       "        text-align: right;\n",
       "    }\n",
       "</style>\n",
       "<table border=\"1\" class=\"dataframe\">\n",
       "  <thead>\n",
       "    <tr style=\"text-align: right;\">\n",
       "      <th></th>\n",
       "      <th>title</th>\n",
       "      <th>img_url</th>\n",
       "      <th>rating</th>\n",
       "      <th>url</th>\n",
       "      <th>id</th>\n",
       "      <th>year</th>\n",
       "    </tr>\n",
       "  </thead>\n",
       "  <tbody>\n",
       "    <tr>\n",
       "      <th>0</th>\n",
       "      <td>The Godfather</td>\n",
       "      <td>https://m.media-amazon.com/images/M/MV5BM2MyNj...</td>\n",
       "      <td>9.2</td>\n",
       "      <td>https://www.imdb.com/title/tt0068646/?ref_=adv...</td>\n",
       "      <td>tt0068646</td>\n",
       "      <td>1972</td>\n",
       "    </tr>\n",
       "    <tr>\n",
       "      <th>1</th>\n",
       "      <td>Interstellar</td>\n",
       "      <td>https://m.media-amazon.com/images/M/MV5BZjdkOT...</td>\n",
       "      <td>8.7</td>\n",
       "      <td>https://www.imdb.com/title/tt0816692/?ref_=adv...</td>\n",
       "      <td>tt0816692</td>\n",
       "      <td>2014</td>\n",
       "    </tr>\n",
       "    <tr>\n",
       "      <th>2</th>\n",
       "      <td>Talk to Me</td>\n",
       "      <td>https://m.media-amazon.com/images/M/MV5BMmY5ZG...</td>\n",
       "      <td>7.2</td>\n",
       "      <td>https://www.imdb.com/title/tt10638522/?ref_=ad...</td>\n",
       "      <td>tt10638522</td>\n",
       "      <td>2022</td>\n",
       "    </tr>\n",
       "    <tr>\n",
       "      <th>3</th>\n",
       "      <td>Practical Magic</td>\n",
       "      <td>https://m.media-amazon.com/images/M/MV5BMzU4Mm...</td>\n",
       "      <td>6.3</td>\n",
       "      <td>https://www.imdb.com/title/tt0120791/?ref_=adv...</td>\n",
       "      <td>tt0120791</td>\n",
       "      <td>1998</td>\n",
       "    </tr>\n",
       "    <tr>\n",
       "      <th>4</th>\n",
       "      <td>Love</td>\n",
       "      <td>https://m.media-amazon.com/images/M/MV5BZGQxZT...</td>\n",
       "      <td>6.1</td>\n",
       "      <td>https://www.imdb.com/title/tt3774694/?ref_=adv...</td>\n",
       "      <td>tt3774694</td>\n",
       "      <td>2015</td>\n",
       "    </tr>\n",
       "  </tbody>\n",
       "</table>\n",
       "</div>"
      ],
      "text/plain": [
       "             title                                            img_url  rating  \\\n",
       "0    The Godfather  https://m.media-amazon.com/images/M/MV5BM2MyNj...     9.2   \n",
       "1     Interstellar  https://m.media-amazon.com/images/M/MV5BZjdkOT...     8.7   \n",
       "2       Talk to Me  https://m.media-amazon.com/images/M/MV5BMmY5ZG...     7.2   \n",
       "3  Practical Magic  https://m.media-amazon.com/images/M/MV5BMzU4Mm...     6.3   \n",
       "4             Love  https://m.media-amazon.com/images/M/MV5BZGQxZT...     6.1   \n",
       "\n",
       "                                                 url          id  year  \n",
       "0  https://www.imdb.com/title/tt0068646/?ref_=adv...   tt0068646  1972  \n",
       "1  https://www.imdb.com/title/tt0816692/?ref_=adv...   tt0816692  2014  \n",
       "2  https://www.imdb.com/title/tt10638522/?ref_=ad...  tt10638522  2022  \n",
       "3  https://www.imdb.com/title/tt0120791/?ref_=adv...   tt0120791  1998  \n",
       "4  https://www.imdb.com/title/tt3774694/?ref_=adv...   tt3774694  2015  "
      ]
     },
     "execution_count": 59,
     "metadata": {},
     "output_type": "execute_result"
    }
   ],
   "source": [
    "movies['year'] = movies_raw.year.astype('str').str.strip('.0')\n",
    "movies.head()"
   ]
  },
  {
   "cell_type": "code",
   "execution_count": 60,
   "id": "a99a5087",
   "metadata": {},
   "outputs": [
    {
     "data": {
      "text/plain": [
       "11920            R\n",
       "130078     Unrated\n",
       "143404           G\n",
       "152836       TV-PG\n",
       "163883    Approved\n",
       "196737     Unrated\n",
       "Name: year, dtype: object"
      ]
     },
     "execution_count": 60,
     "metadata": {},
     "output_type": "execute_result"
    }
   ],
   "source": [
    "movies[~movies.year.apply(lambda x: x.isnumeric())].year"
   ]
  },
  {
   "cell_type": "code",
   "execution_count": 61,
   "id": "c193628b",
   "metadata": {},
   "outputs": [
    {
     "data": {
      "text/plain": [
       "0         1972\n",
       "1         2014\n",
       "2         2022\n",
       "3         1998\n",
       "4         2015\n",
       "          ... \n",
       "222164    1974\n",
       "222165    1957\n",
       "222166    2003\n",
       "222167    1993\n",
       "222168    2008\n",
       "Name: year, Length: 222169, dtype: int32"
      ]
     },
     "execution_count": 61,
     "metadata": {},
     "output_type": "execute_result"
    }
   ],
   "source": [
    "movies.year = pd.to_numeric(movies.year, errors='coerce')\n",
    "movies.year = movies.year.fillna(movies.year.mode()[0])\n",
    "movies.year = movies.year.astype('int')\n",
    "movies.year"
   ]
  },
  {
   "cell_type": "code",
   "execution_count": 62,
   "id": "d2a4093d",
   "metadata": {},
   "outputs": [
    {
     "data": {
      "text/html": [
       "<div>\n",
       "<style scoped>\n",
       "    .dataframe tbody tr th:only-of-type {\n",
       "        vertical-align: middle;\n",
       "    }\n",
       "\n",
       "    .dataframe tbody tr th {\n",
       "        vertical-align: top;\n",
       "    }\n",
       "\n",
       "    .dataframe thead th {\n",
       "        text-align: right;\n",
       "    }\n",
       "</style>\n",
       "<table border=\"1\" class=\"dataframe\">\n",
       "  <thead>\n",
       "    <tr style=\"text-align: right;\">\n",
       "      <th></th>\n",
       "      <th>title</th>\n",
       "      <th>img_url</th>\n",
       "      <th>rating</th>\n",
       "      <th>url</th>\n",
       "      <th>id</th>\n",
       "      <th>year</th>\n",
       "      <th>director</th>\n",
       "    </tr>\n",
       "  </thead>\n",
       "  <tbody>\n",
       "    <tr>\n",
       "      <th>0</th>\n",
       "      <td>The Godfather</td>\n",
       "      <td>https://m.media-amazon.com/images/M/MV5BM2MyNj...</td>\n",
       "      <td>9.2</td>\n",
       "      <td>https://www.imdb.com/title/tt0068646/?ref_=adv...</td>\n",
       "      <td>tt0068646</td>\n",
       "      <td>1972</td>\n",
       "      <td>Francis Ford Coppola</td>\n",
       "    </tr>\n",
       "    <tr>\n",
       "      <th>1</th>\n",
       "      <td>Interstellar</td>\n",
       "      <td>https://m.media-amazon.com/images/M/MV5BZjdkOT...</td>\n",
       "      <td>8.7</td>\n",
       "      <td>https://www.imdb.com/title/tt0816692/?ref_=adv...</td>\n",
       "      <td>tt0816692</td>\n",
       "      <td>2014</td>\n",
       "      <td>Christopher Nolan</td>\n",
       "    </tr>\n",
       "    <tr>\n",
       "      <th>2</th>\n",
       "      <td>Talk to Me</td>\n",
       "      <td>https://m.media-amazon.com/images/M/MV5BMmY5ZG...</td>\n",
       "      <td>7.2</td>\n",
       "      <td>https://www.imdb.com/title/tt10638522/?ref_=ad...</td>\n",
       "      <td>tt10638522</td>\n",
       "      <td>2022</td>\n",
       "      <td>Danny Philippou</td>\n",
       "    </tr>\n",
       "    <tr>\n",
       "      <th>3</th>\n",
       "      <td>Practical Magic</td>\n",
       "      <td>https://m.media-amazon.com/images/M/MV5BMzU4Mm...</td>\n",
       "      <td>6.3</td>\n",
       "      <td>https://www.imdb.com/title/tt0120791/?ref_=adv...</td>\n",
       "      <td>tt0120791</td>\n",
       "      <td>1998</td>\n",
       "      <td>Griffin Dunne</td>\n",
       "    </tr>\n",
       "    <tr>\n",
       "      <th>4</th>\n",
       "      <td>Love</td>\n",
       "      <td>https://m.media-amazon.com/images/M/MV5BZGQxZT...</td>\n",
       "      <td>6.1</td>\n",
       "      <td>https://www.imdb.com/title/tt3774694/?ref_=adv...</td>\n",
       "      <td>tt3774694</td>\n",
       "      <td>2015</td>\n",
       "      <td>Gaspar Noé</td>\n",
       "    </tr>\n",
       "  </tbody>\n",
       "</table>\n",
       "</div>"
      ],
      "text/plain": [
       "             title                                            img_url  rating  \\\n",
       "0    The Godfather  https://m.media-amazon.com/images/M/MV5BM2MyNj...     9.2   \n",
       "1     Interstellar  https://m.media-amazon.com/images/M/MV5BZjdkOT...     8.7   \n",
       "2       Talk to Me  https://m.media-amazon.com/images/M/MV5BMmY5ZG...     7.2   \n",
       "3  Practical Magic  https://m.media-amazon.com/images/M/MV5BMzU4Mm...     6.3   \n",
       "4             Love  https://m.media-amazon.com/images/M/MV5BZGQxZT...     6.1   \n",
       "\n",
       "                                                 url          id  year  \\\n",
       "0  https://www.imdb.com/title/tt0068646/?ref_=adv...   tt0068646  1972   \n",
       "1  https://www.imdb.com/title/tt0816692/?ref_=adv...   tt0816692  2014   \n",
       "2  https://www.imdb.com/title/tt10638522/?ref_=ad...  tt10638522  2022   \n",
       "3  https://www.imdb.com/title/tt0120791/?ref_=adv...   tt0120791  1998   \n",
       "4  https://www.imdb.com/title/tt3774694/?ref_=adv...   tt3774694  2015   \n",
       "\n",
       "               director  \n",
       "0  Francis Ford Coppola  \n",
       "1     Christopher Nolan  \n",
       "2       Danny Philippou  \n",
       "3         Griffin Dunne  \n",
       "4            Gaspar Noé  "
      ]
     },
     "execution_count": 62,
     "metadata": {},
     "output_type": "execute_result"
    }
   ],
   "source": [
    "movies['director'] = movies_raw.director.fillna('Unknown')\n",
    "movies.head()"
   ]
  },
  {
   "cell_type": "code",
   "execution_count": 63,
   "id": "102f1b76",
   "metadata": {},
   "outputs": [
    {
     "data": {
      "text/plain": [
       "0                        Marlon Brando,James Caan,Al Pacino\n",
       "1         Jessica Chastain,Matthew McConaughey,Anne Hath...\n",
       "2             Hamish Phillips,Ari McCarthy,Kit Erhart-Bruce\n",
       "3            Sandra Bullock,Nicole Kidman,Stockard Channing\n",
       "4                    Klara Kristin,Aomi Muyock,Karl Glusman\n",
       "                                ...                        \n",
       "222164               Robert Duvall,Robert De Niro,Al Pacino\n",
       "222165                Henry Fonda,Martin Balsam,Lee J. Cobb\n",
       "222166             Ian McKellen,Elijah Wood,Viggo Mortensen\n",
       "222167               Ben Kingsley,Ralph Fiennes,Liam Neeson\n",
       "222168            Heath Ledger,Christian Bale,Aaron Eckhart\n",
       "Name: stars, Length: 222169, dtype: object"
      ]
     },
     "execution_count": 63,
     "metadata": {},
     "output_type": "execute_result"
    }
   ],
   "source": [
    "movies['stars'] = movies_raw.stars.fillna('No info')\n",
    "movies.stars = movies.stars.apply(lambda x: ','.join(set(x.split(','))))\n",
    "movies.stars"
   ]
  },
  {
   "cell_type": "code",
   "execution_count": 64,
   "id": "889f8c99",
   "metadata": {},
   "outputs": [],
   "source": [
    "def convert_runtime(x):\n",
    "    if x is np.nan:\n",
    "        return x\n",
    "    \n",
    "    vals = x.split()\n",
    "    time = 0\n",
    "    for t in vals:\n",
    "        if t[-1] == 'h':\n",
    "            time += int(t[:-1]) * 60\n",
    "        elif t[-1] == 'm':\n",
    "            time += int(t[:-1])\n",
    "    \n",
    "    return time"
   ]
  },
  {
   "cell_type": "code",
   "execution_count": 65,
   "id": "717f4293",
   "metadata": {},
   "outputs": [
    {
     "data": {
      "text/html": [
       "<div>\n",
       "<style scoped>\n",
       "    .dataframe tbody tr th:only-of-type {\n",
       "        vertical-align: middle;\n",
       "    }\n",
       "\n",
       "    .dataframe tbody tr th {\n",
       "        vertical-align: top;\n",
       "    }\n",
       "\n",
       "    .dataframe thead th {\n",
       "        text-align: right;\n",
       "    }\n",
       "</style>\n",
       "<table border=\"1\" class=\"dataframe\">\n",
       "  <thead>\n",
       "    <tr style=\"text-align: right;\">\n",
       "      <th></th>\n",
       "      <th>title</th>\n",
       "      <th>img_url</th>\n",
       "      <th>rating</th>\n",
       "      <th>url</th>\n",
       "      <th>id</th>\n",
       "      <th>year</th>\n",
       "      <th>director</th>\n",
       "      <th>stars</th>\n",
       "      <th>duration_mins</th>\n",
       "    </tr>\n",
       "  </thead>\n",
       "  <tbody>\n",
       "    <tr>\n",
       "      <th>0</th>\n",
       "      <td>The Godfather</td>\n",
       "      <td>https://m.media-amazon.com/images/M/MV5BM2MyNj...</td>\n",
       "      <td>9.2</td>\n",
       "      <td>https://www.imdb.com/title/tt0068646/?ref_=adv...</td>\n",
       "      <td>tt0068646</td>\n",
       "      <td>1972</td>\n",
       "      <td>Francis Ford Coppola</td>\n",
       "      <td>Marlon Brando,James Caan,Al Pacino</td>\n",
       "      <td>175.0</td>\n",
       "    </tr>\n",
       "    <tr>\n",
       "      <th>1</th>\n",
       "      <td>Interstellar</td>\n",
       "      <td>https://m.media-amazon.com/images/M/MV5BZjdkOT...</td>\n",
       "      <td>8.7</td>\n",
       "      <td>https://www.imdb.com/title/tt0816692/?ref_=adv...</td>\n",
       "      <td>tt0816692</td>\n",
       "      <td>2014</td>\n",
       "      <td>Christopher Nolan</td>\n",
       "      <td>Jessica Chastain,Matthew McConaughey,Anne Hath...</td>\n",
       "      <td>169.0</td>\n",
       "    </tr>\n",
       "    <tr>\n",
       "      <th>2</th>\n",
       "      <td>Talk to Me</td>\n",
       "      <td>https://m.media-amazon.com/images/M/MV5BMmY5ZG...</td>\n",
       "      <td>7.2</td>\n",
       "      <td>https://www.imdb.com/title/tt10638522/?ref_=ad...</td>\n",
       "      <td>tt10638522</td>\n",
       "      <td>2022</td>\n",
       "      <td>Danny Philippou</td>\n",
       "      <td>Hamish Phillips,Ari McCarthy,Kit Erhart-Bruce</td>\n",
       "      <td>95.0</td>\n",
       "    </tr>\n",
       "    <tr>\n",
       "      <th>3</th>\n",
       "      <td>Practical Magic</td>\n",
       "      <td>https://m.media-amazon.com/images/M/MV5BMzU4Mm...</td>\n",
       "      <td>6.3</td>\n",
       "      <td>https://www.imdb.com/title/tt0120791/?ref_=adv...</td>\n",
       "      <td>tt0120791</td>\n",
       "      <td>1998</td>\n",
       "      <td>Griffin Dunne</td>\n",
       "      <td>Sandra Bullock,Nicole Kidman,Stockard Channing</td>\n",
       "      <td>104.0</td>\n",
       "    </tr>\n",
       "    <tr>\n",
       "      <th>4</th>\n",
       "      <td>Love</td>\n",
       "      <td>https://m.media-amazon.com/images/M/MV5BZGQxZT...</td>\n",
       "      <td>6.1</td>\n",
       "      <td>https://www.imdb.com/title/tt3774694/?ref_=adv...</td>\n",
       "      <td>tt3774694</td>\n",
       "      <td>2015</td>\n",
       "      <td>Gaspar Noé</td>\n",
       "      <td>Klara Kristin,Aomi Muyock,Karl Glusman</td>\n",
       "      <td>135.0</td>\n",
       "    </tr>\n",
       "  </tbody>\n",
       "</table>\n",
       "</div>"
      ],
      "text/plain": [
       "             title                                            img_url  rating  \\\n",
       "0    The Godfather  https://m.media-amazon.com/images/M/MV5BM2MyNj...     9.2   \n",
       "1     Interstellar  https://m.media-amazon.com/images/M/MV5BZjdkOT...     8.7   \n",
       "2       Talk to Me  https://m.media-amazon.com/images/M/MV5BMmY5ZG...     7.2   \n",
       "3  Practical Magic  https://m.media-amazon.com/images/M/MV5BMzU4Mm...     6.3   \n",
       "4             Love  https://m.media-amazon.com/images/M/MV5BZGQxZT...     6.1   \n",
       "\n",
       "                                                 url          id  year  \\\n",
       "0  https://www.imdb.com/title/tt0068646/?ref_=adv...   tt0068646  1972   \n",
       "1  https://www.imdb.com/title/tt0816692/?ref_=adv...   tt0816692  2014   \n",
       "2  https://www.imdb.com/title/tt10638522/?ref_=ad...  tt10638522  2022   \n",
       "3  https://www.imdb.com/title/tt0120791/?ref_=adv...   tt0120791  1998   \n",
       "4  https://www.imdb.com/title/tt3774694/?ref_=adv...   tt3774694  2015   \n",
       "\n",
       "               director                                              stars  \\\n",
       "0  Francis Ford Coppola                 Marlon Brando,James Caan,Al Pacino   \n",
       "1     Christopher Nolan  Jessica Chastain,Matthew McConaughey,Anne Hath...   \n",
       "2       Danny Philippou      Hamish Phillips,Ari McCarthy,Kit Erhart-Bruce   \n",
       "3         Griffin Dunne     Sandra Bullock,Nicole Kidman,Stockard Channing   \n",
       "4            Gaspar Noé             Klara Kristin,Aomi Muyock,Karl Glusman   \n",
       "\n",
       "   duration_mins  \n",
       "0          175.0  \n",
       "1          169.0  \n",
       "2           95.0  \n",
       "3          104.0  \n",
       "4          135.0  "
      ]
     },
     "execution_count": 65,
     "metadata": {},
     "output_type": "execute_result"
    }
   ],
   "source": [
    "movies['duration_mins'] = movies_raw.duration.apply(convert_runtime)\n",
    "movies.head()"
   ]
  },
  {
   "cell_type": "code",
   "execution_count": 66,
   "id": "118ce0ac",
   "metadata": {},
   "outputs": [
    {
     "data": {
      "text/html": [
       "<div>\n",
       "<style scoped>\n",
       "    .dataframe tbody tr th:only-of-type {\n",
       "        vertical-align: middle;\n",
       "    }\n",
       "\n",
       "    .dataframe tbody tr th {\n",
       "        vertical-align: top;\n",
       "    }\n",
       "\n",
       "    .dataframe thead th {\n",
       "        text-align: right;\n",
       "    }\n",
       "</style>\n",
       "<table border=\"1\" class=\"dataframe\">\n",
       "  <thead>\n",
       "    <tr style=\"text-align: right;\">\n",
       "      <th></th>\n",
       "      <th>title</th>\n",
       "      <th>img_url</th>\n",
       "      <th>rating</th>\n",
       "      <th>url</th>\n",
       "      <th>id</th>\n",
       "      <th>year</th>\n",
       "      <th>director</th>\n",
       "      <th>stars</th>\n",
       "      <th>duration_mins</th>\n",
       "      <th>genres</th>\n",
       "    </tr>\n",
       "  </thead>\n",
       "  <tbody>\n",
       "    <tr>\n",
       "      <th>0</th>\n",
       "      <td>The Godfather</td>\n",
       "      <td>https://m.media-amazon.com/images/M/MV5BM2MyNj...</td>\n",
       "      <td>9.2</td>\n",
       "      <td>https://www.imdb.com/title/tt0068646/?ref_=adv...</td>\n",
       "      <td>tt0068646</td>\n",
       "      <td>1972</td>\n",
       "      <td>Francis Ford Coppola</td>\n",
       "      <td>Marlon Brando,James Caan,Al Pacino</td>\n",
       "      <td>175.0</td>\n",
       "      <td>Crime,Drama</td>\n",
       "    </tr>\n",
       "    <tr>\n",
       "      <th>1</th>\n",
       "      <td>Interstellar</td>\n",
       "      <td>https://m.media-amazon.com/images/M/MV5BZjdkOT...</td>\n",
       "      <td>8.7</td>\n",
       "      <td>https://www.imdb.com/title/tt0816692/?ref_=adv...</td>\n",
       "      <td>tt0816692</td>\n",
       "      <td>2014</td>\n",
       "      <td>Christopher Nolan</td>\n",
       "      <td>Jessica Chastain,Matthew McConaughey,Anne Hath...</td>\n",
       "      <td>169.0</td>\n",
       "      <td>Adventure,Drama,Sci-Fi</td>\n",
       "    </tr>\n",
       "    <tr>\n",
       "      <th>2</th>\n",
       "      <td>Talk to Me</td>\n",
       "      <td>https://m.media-amazon.com/images/M/MV5BMmY5ZG...</td>\n",
       "      <td>7.2</td>\n",
       "      <td>https://www.imdb.com/title/tt10638522/?ref_=ad...</td>\n",
       "      <td>tt10638522</td>\n",
       "      <td>2022</td>\n",
       "      <td>Danny Philippou</td>\n",
       "      <td>Hamish Phillips,Ari McCarthy,Kit Erhart-Bruce</td>\n",
       "      <td>95.0</td>\n",
       "      <td>Horror,Thriller</td>\n",
       "    </tr>\n",
       "    <tr>\n",
       "      <th>3</th>\n",
       "      <td>Practical Magic</td>\n",
       "      <td>https://m.media-amazon.com/images/M/MV5BMzU4Mm...</td>\n",
       "      <td>6.3</td>\n",
       "      <td>https://www.imdb.com/title/tt0120791/?ref_=adv...</td>\n",
       "      <td>tt0120791</td>\n",
       "      <td>1998</td>\n",
       "      <td>Griffin Dunne</td>\n",
       "      <td>Sandra Bullock,Nicole Kidman,Stockard Channing</td>\n",
       "      <td>104.0</td>\n",
       "      <td>Comedy,Drama,Fantasy</td>\n",
       "    </tr>\n",
       "    <tr>\n",
       "      <th>4</th>\n",
       "      <td>Love</td>\n",
       "      <td>https://m.media-amazon.com/images/M/MV5BZGQxZT...</td>\n",
       "      <td>6.1</td>\n",
       "      <td>https://www.imdb.com/title/tt3774694/?ref_=adv...</td>\n",
       "      <td>tt3774694</td>\n",
       "      <td>2015</td>\n",
       "      <td>Gaspar Noé</td>\n",
       "      <td>Klara Kristin,Aomi Muyock,Karl Glusman</td>\n",
       "      <td>135.0</td>\n",
       "      <td>Drama,Romance</td>\n",
       "    </tr>\n",
       "  </tbody>\n",
       "</table>\n",
       "</div>"
      ],
      "text/plain": [
       "             title                                            img_url  rating  \\\n",
       "0    The Godfather  https://m.media-amazon.com/images/M/MV5BM2MyNj...     9.2   \n",
       "1     Interstellar  https://m.media-amazon.com/images/M/MV5BZjdkOT...     8.7   \n",
       "2       Talk to Me  https://m.media-amazon.com/images/M/MV5BMmY5ZG...     7.2   \n",
       "3  Practical Magic  https://m.media-amazon.com/images/M/MV5BMzU4Mm...     6.3   \n",
       "4             Love  https://m.media-amazon.com/images/M/MV5BZGQxZT...     6.1   \n",
       "\n",
       "                                                 url          id  year  \\\n",
       "0  https://www.imdb.com/title/tt0068646/?ref_=adv...   tt0068646  1972   \n",
       "1  https://www.imdb.com/title/tt0816692/?ref_=adv...   tt0816692  2014   \n",
       "2  https://www.imdb.com/title/tt10638522/?ref_=ad...  tt10638522  2022   \n",
       "3  https://www.imdb.com/title/tt0120791/?ref_=adv...   tt0120791  1998   \n",
       "4  https://www.imdb.com/title/tt3774694/?ref_=adv...   tt3774694  2015   \n",
       "\n",
       "               director                                              stars  \\\n",
       "0  Francis Ford Coppola                 Marlon Brando,James Caan,Al Pacino   \n",
       "1     Christopher Nolan  Jessica Chastain,Matthew McConaughey,Anne Hath...   \n",
       "2       Danny Philippou      Hamish Phillips,Ari McCarthy,Kit Erhart-Bruce   \n",
       "3         Griffin Dunne     Sandra Bullock,Nicole Kidman,Stockard Channing   \n",
       "4            Gaspar Noé             Klara Kristin,Aomi Muyock,Karl Glusman   \n",
       "\n",
       "   duration_mins                  genres  \n",
       "0          175.0             Crime,Drama  \n",
       "1          169.0  Adventure,Drama,Sci-Fi  \n",
       "2           95.0         Horror,Thriller  \n",
       "3          104.0    Comedy,Drama,Fantasy  \n",
       "4          135.0           Drama,Romance  "
      ]
     },
     "execution_count": 66,
     "metadata": {},
     "output_type": "execute_result"
    }
   ],
   "source": [
    "movies['genres'] = movies_raw.genres.fillna('undefined')\n",
    "movies.head()"
   ]
  },
  {
   "cell_type": "code",
   "execution_count": 67,
   "id": "485da16c",
   "metadata": {},
   "outputs": [
    {
     "data": {
      "text/html": [
       "<div>\n",
       "<style scoped>\n",
       "    .dataframe tbody tr th:only-of-type {\n",
       "        vertical-align: middle;\n",
       "    }\n",
       "\n",
       "    .dataframe tbody tr th {\n",
       "        vertical-align: top;\n",
       "    }\n",
       "\n",
       "    .dataframe thead th {\n",
       "        text-align: right;\n",
       "    }\n",
       "</style>\n",
       "<table border=\"1\" class=\"dataframe\">\n",
       "  <thead>\n",
       "    <tr style=\"text-align: right;\">\n",
       "      <th></th>\n",
       "      <th>title</th>\n",
       "      <th>img_url</th>\n",
       "      <th>rating</th>\n",
       "      <th>url</th>\n",
       "      <th>id</th>\n",
       "      <th>year</th>\n",
       "      <th>director</th>\n",
       "      <th>stars</th>\n",
       "      <th>duration_mins</th>\n",
       "      <th>genres</th>\n",
       "      <th>overview</th>\n",
       "    </tr>\n",
       "  </thead>\n",
       "  <tbody>\n",
       "    <tr>\n",
       "      <th>0</th>\n",
       "      <td>The Godfather</td>\n",
       "      <td>https://m.media-amazon.com/images/M/MV5BM2MyNj...</td>\n",
       "      <td>9.2</td>\n",
       "      <td>https://www.imdb.com/title/tt0068646/?ref_=adv...</td>\n",
       "      <td>tt0068646</td>\n",
       "      <td>1972</td>\n",
       "      <td>Francis Ford Coppola</td>\n",
       "      <td>Marlon Brando,James Caan,Al Pacino</td>\n",
       "      <td>175.0</td>\n",
       "      <td>Crime,Drama</td>\n",
       "      <td>Don Vito Corleone, head of a mafia family, dec...</td>\n",
       "    </tr>\n",
       "    <tr>\n",
       "      <th>1</th>\n",
       "      <td>Interstellar</td>\n",
       "      <td>https://m.media-amazon.com/images/M/MV5BZjdkOT...</td>\n",
       "      <td>8.7</td>\n",
       "      <td>https://www.imdb.com/title/tt0816692/?ref_=adv...</td>\n",
       "      <td>tt0816692</td>\n",
       "      <td>2014</td>\n",
       "      <td>Christopher Nolan</td>\n",
       "      <td>Jessica Chastain,Matthew McConaughey,Anne Hath...</td>\n",
       "      <td>169.0</td>\n",
       "      <td>Adventure,Drama,Sci-Fi</td>\n",
       "      <td>When Earth becomes uninhabitable in the future...</td>\n",
       "    </tr>\n",
       "    <tr>\n",
       "      <th>2</th>\n",
       "      <td>Talk to Me</td>\n",
       "      <td>https://m.media-amazon.com/images/M/MV5BMmY5ZG...</td>\n",
       "      <td>7.2</td>\n",
       "      <td>https://www.imdb.com/title/tt10638522/?ref_=ad...</td>\n",
       "      <td>tt10638522</td>\n",
       "      <td>2022</td>\n",
       "      <td>Danny Philippou</td>\n",
       "      <td>Hamish Phillips,Ari McCarthy,Kit Erhart-Bruce</td>\n",
       "      <td>95.0</td>\n",
       "      <td>Horror,Thriller</td>\n",
       "      <td>When a group of friends discover how to conjur...</td>\n",
       "    </tr>\n",
       "    <tr>\n",
       "      <th>3</th>\n",
       "      <td>Practical Magic</td>\n",
       "      <td>https://m.media-amazon.com/images/M/MV5BMzU4Mm...</td>\n",
       "      <td>6.3</td>\n",
       "      <td>https://www.imdb.com/title/tt0120791/?ref_=adv...</td>\n",
       "      <td>tt0120791</td>\n",
       "      <td>1998</td>\n",
       "      <td>Griffin Dunne</td>\n",
       "      <td>Sandra Bullock,Nicole Kidman,Stockard Channing</td>\n",
       "      <td>104.0</td>\n",
       "      <td>Comedy,Drama,Fantasy</td>\n",
       "      <td>Two witch sisters, raised by their eccentric a...</td>\n",
       "    </tr>\n",
       "    <tr>\n",
       "      <th>4</th>\n",
       "      <td>Love</td>\n",
       "      <td>https://m.media-amazon.com/images/M/MV5BZGQxZT...</td>\n",
       "      <td>6.1</td>\n",
       "      <td>https://www.imdb.com/title/tt3774694/?ref_=adv...</td>\n",
       "      <td>tt3774694</td>\n",
       "      <td>2015</td>\n",
       "      <td>Gaspar Noé</td>\n",
       "      <td>Klara Kristin,Aomi Muyock,Karl Glusman</td>\n",
       "      <td>135.0</td>\n",
       "      <td>Drama,Romance</td>\n",
       "      <td>Murphy is an American living in Paris who ente...</td>\n",
       "    </tr>\n",
       "  </tbody>\n",
       "</table>\n",
       "</div>"
      ],
      "text/plain": [
       "             title                                            img_url  rating  \\\n",
       "0    The Godfather  https://m.media-amazon.com/images/M/MV5BM2MyNj...     9.2   \n",
       "1     Interstellar  https://m.media-amazon.com/images/M/MV5BZjdkOT...     8.7   \n",
       "2       Talk to Me  https://m.media-amazon.com/images/M/MV5BMmY5ZG...     7.2   \n",
       "3  Practical Magic  https://m.media-amazon.com/images/M/MV5BMzU4Mm...     6.3   \n",
       "4             Love  https://m.media-amazon.com/images/M/MV5BZGQxZT...     6.1   \n",
       "\n",
       "                                                 url          id  year  \\\n",
       "0  https://www.imdb.com/title/tt0068646/?ref_=adv...   tt0068646  1972   \n",
       "1  https://www.imdb.com/title/tt0816692/?ref_=adv...   tt0816692  2014   \n",
       "2  https://www.imdb.com/title/tt10638522/?ref_=ad...  tt10638522  2022   \n",
       "3  https://www.imdb.com/title/tt0120791/?ref_=adv...   tt0120791  1998   \n",
       "4  https://www.imdb.com/title/tt3774694/?ref_=adv...   tt3774694  2015   \n",
       "\n",
       "               director                                              stars  \\\n",
       "0  Francis Ford Coppola                 Marlon Brando,James Caan,Al Pacino   \n",
       "1     Christopher Nolan  Jessica Chastain,Matthew McConaughey,Anne Hath...   \n",
       "2       Danny Philippou      Hamish Phillips,Ari McCarthy,Kit Erhart-Bruce   \n",
       "3         Griffin Dunne     Sandra Bullock,Nicole Kidman,Stockard Channing   \n",
       "4            Gaspar Noé             Klara Kristin,Aomi Muyock,Karl Glusman   \n",
       "\n",
       "   duration_mins                  genres  \\\n",
       "0          175.0             Crime,Drama   \n",
       "1          169.0  Adventure,Drama,Sci-Fi   \n",
       "2           95.0         Horror,Thriller   \n",
       "3          104.0    Comedy,Drama,Fantasy   \n",
       "4          135.0           Drama,Romance   \n",
       "\n",
       "                                            overview  \n",
       "0  Don Vito Corleone, head of a mafia family, dec...  \n",
       "1  When Earth becomes uninhabitable in the future...  \n",
       "2  When a group of friends discover how to conjur...  \n",
       "3  Two witch sisters, raised by their eccentric a...  \n",
       "4  Murphy is an American living in Paris who ente...  "
      ]
     },
     "execution_count": 67,
     "metadata": {},
     "output_type": "execute_result"
    }
   ],
   "source": [
    "movies['overview'] = movies_raw.overview.fillna('No info')\n",
    "movies.head()"
   ]
  },
  {
   "cell_type": "code",
   "execution_count": 79,
   "id": "9b8ef64e",
   "metadata": {},
   "outputs": [
    {
     "data": {
      "text/html": [
       "<div>\n",
       "<style scoped>\n",
       "    .dataframe tbody tr th:only-of-type {\n",
       "        vertical-align: middle;\n",
       "    }\n",
       "\n",
       "    .dataframe tbody tr th {\n",
       "        vertical-align: top;\n",
       "    }\n",
       "\n",
       "    .dataframe thead th {\n",
       "        text-align: right;\n",
       "    }\n",
       "</style>\n",
       "<table border=\"1\" class=\"dataframe\">\n",
       "  <thead>\n",
       "    <tr style=\"text-align: right;\">\n",
       "      <th></th>\n",
       "      <th>title</th>\n",
       "      <th>img_url</th>\n",
       "      <th>rating</th>\n",
       "      <th>url</th>\n",
       "      <th>id</th>\n",
       "      <th>year</th>\n",
       "      <th>director</th>\n",
       "      <th>stars</th>\n",
       "      <th>duration_mins</th>\n",
       "      <th>genres</th>\n",
       "      <th>overview</th>\n",
       "      <th>num_rating</th>\n",
       "      <th>num_user_review</th>\n",
       "      <th>country</th>\n",
       "    </tr>\n",
       "  </thead>\n",
       "  <tbody>\n",
       "    <tr>\n",
       "      <th>0</th>\n",
       "      <td>The Godfather</td>\n",
       "      <td>https://m.media-amazon.com/images/M/MV5BM2MyNj...</td>\n",
       "      <td>9.2</td>\n",
       "      <td>https://www.imdb.com/title/tt0068646/?ref_=adv...</td>\n",
       "      <td>tt0068646</td>\n",
       "      <td>1972</td>\n",
       "      <td>Francis Ford Coppola</td>\n",
       "      <td>Marlon Brando,James Caan,Al Pacino</td>\n",
       "      <td>175.0</td>\n",
       "      <td>Crime,Drama</td>\n",
       "      <td>Don Vito Corleone, head of a mafia family, dec...</td>\n",
       "      <td>2M</td>\n",
       "      <td>5.3K</td>\n",
       "      <td>United States</td>\n",
       "    </tr>\n",
       "    <tr>\n",
       "      <th>1</th>\n",
       "      <td>Interstellar</td>\n",
       "      <td>https://m.media-amazon.com/images/M/MV5BZjdkOT...</td>\n",
       "      <td>8.7</td>\n",
       "      <td>https://www.imdb.com/title/tt0816692/?ref_=adv...</td>\n",
       "      <td>tt0816692</td>\n",
       "      <td>2014</td>\n",
       "      <td>Christopher Nolan</td>\n",
       "      <td>Jessica Chastain,Matthew McConaughey,Anne Hath...</td>\n",
       "      <td>169.0</td>\n",
       "      <td>Adventure,Drama,Sci-Fi</td>\n",
       "      <td>When Earth becomes uninhabitable in the future...</td>\n",
       "      <td>2M</td>\n",
       "      <td>5.5K</td>\n",
       "      <td>United States</td>\n",
       "    </tr>\n",
       "    <tr>\n",
       "      <th>2</th>\n",
       "      <td>Talk to Me</td>\n",
       "      <td>https://m.media-amazon.com/images/M/MV5BMmY5ZG...</td>\n",
       "      <td>7.2</td>\n",
       "      <td>https://www.imdb.com/title/tt10638522/?ref_=ad...</td>\n",
       "      <td>tt10638522</td>\n",
       "      <td>2022</td>\n",
       "      <td>Danny Philippou</td>\n",
       "      <td>Hamish Phillips,Ari McCarthy,Kit Erhart-Bruce</td>\n",
       "      <td>95.0</td>\n",
       "      <td>Horror,Thriller</td>\n",
       "      <td>When a group of friends discover how to conjur...</td>\n",
       "      <td>81K</td>\n",
       "      <td>485</td>\n",
       "      <td>Australia</td>\n",
       "    </tr>\n",
       "    <tr>\n",
       "      <th>3</th>\n",
       "      <td>Practical Magic</td>\n",
       "      <td>https://m.media-amazon.com/images/M/MV5BMzU4Mm...</td>\n",
       "      <td>6.3</td>\n",
       "      <td>https://www.imdb.com/title/tt0120791/?ref_=adv...</td>\n",
       "      <td>tt0120791</td>\n",
       "      <td>1998</td>\n",
       "      <td>Griffin Dunne</td>\n",
       "      <td>Sandra Bullock,Nicole Kidman,Stockard Channing</td>\n",
       "      <td>104.0</td>\n",
       "      <td>Comedy,Drama,Fantasy</td>\n",
       "      <td>Two witch sisters, raised by their eccentric a...</td>\n",
       "      <td>90K</td>\n",
       "      <td>313</td>\n",
       "      <td>United States</td>\n",
       "    </tr>\n",
       "    <tr>\n",
       "      <th>4</th>\n",
       "      <td>Love</td>\n",
       "      <td>https://m.media-amazon.com/images/M/MV5BZGQxZT...</td>\n",
       "      <td>6.1</td>\n",
       "      <td>https://www.imdb.com/title/tt3774694/?ref_=adv...</td>\n",
       "      <td>tt3774694</td>\n",
       "      <td>2015</td>\n",
       "      <td>Gaspar Noé</td>\n",
       "      <td>Klara Kristin,Aomi Muyock,Karl Glusman</td>\n",
       "      <td>135.0</td>\n",
       "      <td>Drama,Romance</td>\n",
       "      <td>Murphy is an American living in Paris who ente...</td>\n",
       "      <td>64K</td>\n",
       "      <td>177</td>\n",
       "      <td>France</td>\n",
       "    </tr>\n",
       "  </tbody>\n",
       "</table>\n",
       "</div>"
      ],
      "text/plain": [
       "             title                                            img_url  rating  \\\n",
       "0    The Godfather  https://m.media-amazon.com/images/M/MV5BM2MyNj...     9.2   \n",
       "1     Interstellar  https://m.media-amazon.com/images/M/MV5BZjdkOT...     8.7   \n",
       "2       Talk to Me  https://m.media-amazon.com/images/M/MV5BMmY5ZG...     7.2   \n",
       "3  Practical Magic  https://m.media-amazon.com/images/M/MV5BMzU4Mm...     6.3   \n",
       "4             Love  https://m.media-amazon.com/images/M/MV5BZGQxZT...     6.1   \n",
       "\n",
       "                                                 url          id  year  \\\n",
       "0  https://www.imdb.com/title/tt0068646/?ref_=adv...   tt0068646  1972   \n",
       "1  https://www.imdb.com/title/tt0816692/?ref_=adv...   tt0816692  2014   \n",
       "2  https://www.imdb.com/title/tt10638522/?ref_=ad...  tt10638522  2022   \n",
       "3  https://www.imdb.com/title/tt0120791/?ref_=adv...   tt0120791  1998   \n",
       "4  https://www.imdb.com/title/tt3774694/?ref_=adv...   tt3774694  2015   \n",
       "\n",
       "               director                                              stars  \\\n",
       "0  Francis Ford Coppola                 Marlon Brando,James Caan,Al Pacino   \n",
       "1     Christopher Nolan  Jessica Chastain,Matthew McConaughey,Anne Hath...   \n",
       "2       Danny Philippou      Hamish Phillips,Ari McCarthy,Kit Erhart-Bruce   \n",
       "3         Griffin Dunne     Sandra Bullock,Nicole Kidman,Stockard Channing   \n",
       "4            Gaspar Noé             Klara Kristin,Aomi Muyock,Karl Glusman   \n",
       "\n",
       "   duration_mins                  genres  \\\n",
       "0          175.0             Crime,Drama   \n",
       "1          169.0  Adventure,Drama,Sci-Fi   \n",
       "2           95.0         Horror,Thriller   \n",
       "3          104.0    Comedy,Drama,Fantasy   \n",
       "4          135.0           Drama,Romance   \n",
       "\n",
       "                                            overview num_rating  \\\n",
       "0  Don Vito Corleone, head of a mafia family, dec...         2M   \n",
       "1  When Earth becomes uninhabitable in the future...         2M   \n",
       "2  When a group of friends discover how to conjur...        81K   \n",
       "3  Two witch sisters, raised by their eccentric a...        90K   \n",
       "4  Murphy is an American living in Paris who ente...        64K   \n",
       "\n",
       "  num_user_review        country  \n",
       "0            5.3K  United States  \n",
       "1            5.5K  United States  \n",
       "2             485      Australia  \n",
       "3             313  United States  \n",
       "4             177         France  "
      ]
     },
     "execution_count": 79,
     "metadata": {},
     "output_type": "execute_result"
    }
   ],
   "source": [
    "movies[['num_rating', 'num_user_review']] = movies_raw[['num_rating', 'num_user_review']].fillna('0').astype('str')\n",
    "movies.head()"
   ]
  },
  {
   "cell_type": "code",
   "execution_count": 80,
   "id": "ee9489fe",
   "metadata": {},
   "outputs": [],
   "source": [
    "def convert_numeric(x):\n",
    "    if x[-1] == 'M':\n",
    "        return float(x[:-1]) * 1000000\n",
    "    elif x[-1] == 'K':\n",
    "        return float(x[:-1]) * 1000\n",
    "    else:   \n",
    "        return float(x)"
   ]
  },
  {
   "cell_type": "code",
   "execution_count": 81,
   "id": "b5861307",
   "metadata": {},
   "outputs": [
    {
     "data": {
      "text/html": [
       "<div>\n",
       "<style scoped>\n",
       "    .dataframe tbody tr th:only-of-type {\n",
       "        vertical-align: middle;\n",
       "    }\n",
       "\n",
       "    .dataframe tbody tr th {\n",
       "        vertical-align: top;\n",
       "    }\n",
       "\n",
       "    .dataframe thead th {\n",
       "        text-align: right;\n",
       "    }\n",
       "</style>\n",
       "<table border=\"1\" class=\"dataframe\">\n",
       "  <thead>\n",
       "    <tr style=\"text-align: right;\">\n",
       "      <th></th>\n",
       "      <th>title</th>\n",
       "      <th>img_url</th>\n",
       "      <th>rating</th>\n",
       "      <th>url</th>\n",
       "      <th>id</th>\n",
       "      <th>year</th>\n",
       "      <th>director</th>\n",
       "      <th>stars</th>\n",
       "      <th>duration_mins</th>\n",
       "      <th>genres</th>\n",
       "      <th>overview</th>\n",
       "      <th>num_rating</th>\n",
       "      <th>num_user_review</th>\n",
       "      <th>country</th>\n",
       "    </tr>\n",
       "  </thead>\n",
       "  <tbody>\n",
       "    <tr>\n",
       "      <th>0</th>\n",
       "      <td>The Godfather</td>\n",
       "      <td>https://m.media-amazon.com/images/M/MV5BM2MyNj...</td>\n",
       "      <td>9.2</td>\n",
       "      <td>https://www.imdb.com/title/tt0068646/?ref_=adv...</td>\n",
       "      <td>tt0068646</td>\n",
       "      <td>1972</td>\n",
       "      <td>Francis Ford Coppola</td>\n",
       "      <td>Marlon Brando,James Caan,Al Pacino</td>\n",
       "      <td>175.0</td>\n",
       "      <td>Crime,Drama</td>\n",
       "      <td>Don Vito Corleone, head of a mafia family, dec...</td>\n",
       "      <td>2000000</td>\n",
       "      <td>5300</td>\n",
       "      <td>United States</td>\n",
       "    </tr>\n",
       "    <tr>\n",
       "      <th>1</th>\n",
       "      <td>Interstellar</td>\n",
       "      <td>https://m.media-amazon.com/images/M/MV5BZjdkOT...</td>\n",
       "      <td>8.7</td>\n",
       "      <td>https://www.imdb.com/title/tt0816692/?ref_=adv...</td>\n",
       "      <td>tt0816692</td>\n",
       "      <td>2014</td>\n",
       "      <td>Christopher Nolan</td>\n",
       "      <td>Jessica Chastain,Matthew McConaughey,Anne Hath...</td>\n",
       "      <td>169.0</td>\n",
       "      <td>Adventure,Drama,Sci-Fi</td>\n",
       "      <td>When Earth becomes uninhabitable in the future...</td>\n",
       "      <td>2000000</td>\n",
       "      <td>5500</td>\n",
       "      <td>United States</td>\n",
       "    </tr>\n",
       "    <tr>\n",
       "      <th>2</th>\n",
       "      <td>Talk to Me</td>\n",
       "      <td>https://m.media-amazon.com/images/M/MV5BMmY5ZG...</td>\n",
       "      <td>7.2</td>\n",
       "      <td>https://www.imdb.com/title/tt10638522/?ref_=ad...</td>\n",
       "      <td>tt10638522</td>\n",
       "      <td>2022</td>\n",
       "      <td>Danny Philippou</td>\n",
       "      <td>Hamish Phillips,Ari McCarthy,Kit Erhart-Bruce</td>\n",
       "      <td>95.0</td>\n",
       "      <td>Horror,Thriller</td>\n",
       "      <td>When a group of friends discover how to conjur...</td>\n",
       "      <td>81000</td>\n",
       "      <td>485</td>\n",
       "      <td>Australia</td>\n",
       "    </tr>\n",
       "    <tr>\n",
       "      <th>3</th>\n",
       "      <td>Practical Magic</td>\n",
       "      <td>https://m.media-amazon.com/images/M/MV5BMzU4Mm...</td>\n",
       "      <td>6.3</td>\n",
       "      <td>https://www.imdb.com/title/tt0120791/?ref_=adv...</td>\n",
       "      <td>tt0120791</td>\n",
       "      <td>1998</td>\n",
       "      <td>Griffin Dunne</td>\n",
       "      <td>Sandra Bullock,Nicole Kidman,Stockard Channing</td>\n",
       "      <td>104.0</td>\n",
       "      <td>Comedy,Drama,Fantasy</td>\n",
       "      <td>Two witch sisters, raised by their eccentric a...</td>\n",
       "      <td>90000</td>\n",
       "      <td>313</td>\n",
       "      <td>United States</td>\n",
       "    </tr>\n",
       "    <tr>\n",
       "      <th>4</th>\n",
       "      <td>Love</td>\n",
       "      <td>https://m.media-amazon.com/images/M/MV5BZGQxZT...</td>\n",
       "      <td>6.1</td>\n",
       "      <td>https://www.imdb.com/title/tt3774694/?ref_=adv...</td>\n",
       "      <td>tt3774694</td>\n",
       "      <td>2015</td>\n",
       "      <td>Gaspar Noé</td>\n",
       "      <td>Klara Kristin,Aomi Muyock,Karl Glusman</td>\n",
       "      <td>135.0</td>\n",
       "      <td>Drama,Romance</td>\n",
       "      <td>Murphy is an American living in Paris who ente...</td>\n",
       "      <td>64000</td>\n",
       "      <td>177</td>\n",
       "      <td>France</td>\n",
       "    </tr>\n",
       "  </tbody>\n",
       "</table>\n",
       "</div>"
      ],
      "text/plain": [
       "             title                                            img_url  rating  \\\n",
       "0    The Godfather  https://m.media-amazon.com/images/M/MV5BM2MyNj...     9.2   \n",
       "1     Interstellar  https://m.media-amazon.com/images/M/MV5BZjdkOT...     8.7   \n",
       "2       Talk to Me  https://m.media-amazon.com/images/M/MV5BMmY5ZG...     7.2   \n",
       "3  Practical Magic  https://m.media-amazon.com/images/M/MV5BMzU4Mm...     6.3   \n",
       "4             Love  https://m.media-amazon.com/images/M/MV5BZGQxZT...     6.1   \n",
       "\n",
       "                                                 url          id  year  \\\n",
       "0  https://www.imdb.com/title/tt0068646/?ref_=adv...   tt0068646  1972   \n",
       "1  https://www.imdb.com/title/tt0816692/?ref_=adv...   tt0816692  2014   \n",
       "2  https://www.imdb.com/title/tt10638522/?ref_=ad...  tt10638522  2022   \n",
       "3  https://www.imdb.com/title/tt0120791/?ref_=adv...   tt0120791  1998   \n",
       "4  https://www.imdb.com/title/tt3774694/?ref_=adv...   tt3774694  2015   \n",
       "\n",
       "               director                                              stars  \\\n",
       "0  Francis Ford Coppola                 Marlon Brando,James Caan,Al Pacino   \n",
       "1     Christopher Nolan  Jessica Chastain,Matthew McConaughey,Anne Hath...   \n",
       "2       Danny Philippou      Hamish Phillips,Ari McCarthy,Kit Erhart-Bruce   \n",
       "3         Griffin Dunne     Sandra Bullock,Nicole Kidman,Stockard Channing   \n",
       "4            Gaspar Noé             Klara Kristin,Aomi Muyock,Karl Glusman   \n",
       "\n",
       "   duration_mins                  genres  \\\n",
       "0          175.0             Crime,Drama   \n",
       "1          169.0  Adventure,Drama,Sci-Fi   \n",
       "2           95.0         Horror,Thriller   \n",
       "3          104.0    Comedy,Drama,Fantasy   \n",
       "4          135.0           Drama,Romance   \n",
       "\n",
       "                                            overview  num_rating  \\\n",
       "0  Don Vito Corleone, head of a mafia family, dec...     2000000   \n",
       "1  When Earth becomes uninhabitable in the future...     2000000   \n",
       "2  When a group of friends discover how to conjur...       81000   \n",
       "3  Two witch sisters, raised by their eccentric a...       90000   \n",
       "4  Murphy is an American living in Paris who ente...       64000   \n",
       "\n",
       "   num_user_review        country  \n",
       "0             5300  United States  \n",
       "1             5500  United States  \n",
       "2              485      Australia  \n",
       "3              313  United States  \n",
       "4              177         France  "
      ]
     },
     "execution_count": 81,
     "metadata": {},
     "output_type": "execute_result"
    }
   ],
   "source": [
    "movies.num_rating = movies.num_rating.apply(convert_numeric).astype('int')\n",
    "movies.num_user_review = movies.num_user_review.apply(convert_numeric).astype('int')\n",
    "movies.head()"
   ]
  },
  {
   "cell_type": "code",
   "execution_count": 77,
   "id": "ec62f45c",
   "metadata": {},
   "outputs": [
    {
     "data": {
      "text/html": [
       "<div>\n",
       "<style scoped>\n",
       "    .dataframe tbody tr th:only-of-type {\n",
       "        vertical-align: middle;\n",
       "    }\n",
       "\n",
       "    .dataframe tbody tr th {\n",
       "        vertical-align: top;\n",
       "    }\n",
       "\n",
       "    .dataframe thead th {\n",
       "        text-align: right;\n",
       "    }\n",
       "</style>\n",
       "<table border=\"1\" class=\"dataframe\">\n",
       "  <thead>\n",
       "    <tr style=\"text-align: right;\">\n",
       "      <th></th>\n",
       "      <th>title</th>\n",
       "      <th>img_url</th>\n",
       "      <th>rating</th>\n",
       "      <th>url</th>\n",
       "      <th>id</th>\n",
       "      <th>year</th>\n",
       "      <th>director</th>\n",
       "      <th>stars</th>\n",
       "      <th>duration_mins</th>\n",
       "      <th>genres</th>\n",
       "      <th>overview</th>\n",
       "      <th>num_rating</th>\n",
       "      <th>num_user_review</th>\n",
       "      <th>country</th>\n",
       "    </tr>\n",
       "  </thead>\n",
       "  <tbody>\n",
       "    <tr>\n",
       "      <th>0</th>\n",
       "      <td>The Godfather</td>\n",
       "      <td>https://m.media-amazon.com/images/M/MV5BM2MyNj...</td>\n",
       "      <td>9.2</td>\n",
       "      <td>https://www.imdb.com/title/tt0068646/?ref_=adv...</td>\n",
       "      <td>tt0068646</td>\n",
       "      <td>1972</td>\n",
       "      <td>Francis Ford Coppola</td>\n",
       "      <td>Marlon Brando,James Caan,Al Pacino</td>\n",
       "      <td>175.0</td>\n",
       "      <td>Crime,Drama</td>\n",
       "      <td>Don Vito Corleone, head of a mafia family, dec...</td>\n",
       "      <td>2000000</td>\n",
       "      <td>5300</td>\n",
       "      <td>United States</td>\n",
       "    </tr>\n",
       "    <tr>\n",
       "      <th>1</th>\n",
       "      <td>Interstellar</td>\n",
       "      <td>https://m.media-amazon.com/images/M/MV5BZjdkOT...</td>\n",
       "      <td>8.7</td>\n",
       "      <td>https://www.imdb.com/title/tt0816692/?ref_=adv...</td>\n",
       "      <td>tt0816692</td>\n",
       "      <td>2014</td>\n",
       "      <td>Christopher Nolan</td>\n",
       "      <td>Jessica Chastain,Matthew McConaughey,Anne Hath...</td>\n",
       "      <td>169.0</td>\n",
       "      <td>Adventure,Drama,Sci-Fi</td>\n",
       "      <td>When Earth becomes uninhabitable in the future...</td>\n",
       "      <td>2000000</td>\n",
       "      <td>5500</td>\n",
       "      <td>United States</td>\n",
       "    </tr>\n",
       "    <tr>\n",
       "      <th>2</th>\n",
       "      <td>Talk to Me</td>\n",
       "      <td>https://m.media-amazon.com/images/M/MV5BMmY5ZG...</td>\n",
       "      <td>7.2</td>\n",
       "      <td>https://www.imdb.com/title/tt10638522/?ref_=ad...</td>\n",
       "      <td>tt10638522</td>\n",
       "      <td>2022</td>\n",
       "      <td>Danny Philippou</td>\n",
       "      <td>Hamish Phillips,Ari McCarthy,Kit Erhart-Bruce</td>\n",
       "      <td>95.0</td>\n",
       "      <td>Horror,Thriller</td>\n",
       "      <td>When a group of friends discover how to conjur...</td>\n",
       "      <td>81000</td>\n",
       "      <td>485</td>\n",
       "      <td>Australia</td>\n",
       "    </tr>\n",
       "    <tr>\n",
       "      <th>3</th>\n",
       "      <td>Practical Magic</td>\n",
       "      <td>https://m.media-amazon.com/images/M/MV5BMzU4Mm...</td>\n",
       "      <td>6.3</td>\n",
       "      <td>https://www.imdb.com/title/tt0120791/?ref_=adv...</td>\n",
       "      <td>tt0120791</td>\n",
       "      <td>1998</td>\n",
       "      <td>Griffin Dunne</td>\n",
       "      <td>Sandra Bullock,Nicole Kidman,Stockard Channing</td>\n",
       "      <td>104.0</td>\n",
       "      <td>Comedy,Drama,Fantasy</td>\n",
       "      <td>Two witch sisters, raised by their eccentric a...</td>\n",
       "      <td>90000</td>\n",
       "      <td>313</td>\n",
       "      <td>United States</td>\n",
       "    </tr>\n",
       "    <tr>\n",
       "      <th>4</th>\n",
       "      <td>Love</td>\n",
       "      <td>https://m.media-amazon.com/images/M/MV5BZGQxZT...</td>\n",
       "      <td>6.1</td>\n",
       "      <td>https://www.imdb.com/title/tt3774694/?ref_=adv...</td>\n",
       "      <td>tt3774694</td>\n",
       "      <td>2015</td>\n",
       "      <td>Gaspar Noé</td>\n",
       "      <td>Klara Kristin,Aomi Muyock,Karl Glusman</td>\n",
       "      <td>135.0</td>\n",
       "      <td>Drama,Romance</td>\n",
       "      <td>Murphy is an American living in Paris who ente...</td>\n",
       "      <td>64000</td>\n",
       "      <td>177</td>\n",
       "      <td>France</td>\n",
       "    </tr>\n",
       "  </tbody>\n",
       "</table>\n",
       "</div>"
      ],
      "text/plain": [
       "             title                                            img_url  rating  \\\n",
       "0    The Godfather  https://m.media-amazon.com/images/M/MV5BM2MyNj...     9.2   \n",
       "1     Interstellar  https://m.media-amazon.com/images/M/MV5BZjdkOT...     8.7   \n",
       "2       Talk to Me  https://m.media-amazon.com/images/M/MV5BMmY5ZG...     7.2   \n",
       "3  Practical Magic  https://m.media-amazon.com/images/M/MV5BMzU4Mm...     6.3   \n",
       "4             Love  https://m.media-amazon.com/images/M/MV5BZGQxZT...     6.1   \n",
       "\n",
       "                                                 url          id  year  \\\n",
       "0  https://www.imdb.com/title/tt0068646/?ref_=adv...   tt0068646  1972   \n",
       "1  https://www.imdb.com/title/tt0816692/?ref_=adv...   tt0816692  2014   \n",
       "2  https://www.imdb.com/title/tt10638522/?ref_=ad...  tt10638522  2022   \n",
       "3  https://www.imdb.com/title/tt0120791/?ref_=adv...   tt0120791  1998   \n",
       "4  https://www.imdb.com/title/tt3774694/?ref_=adv...   tt3774694  2015   \n",
       "\n",
       "               director                                              stars  \\\n",
       "0  Francis Ford Coppola                 Marlon Brando,James Caan,Al Pacino   \n",
       "1     Christopher Nolan  Jessica Chastain,Matthew McConaughey,Anne Hath...   \n",
       "2       Danny Philippou      Hamish Phillips,Ari McCarthy,Kit Erhart-Bruce   \n",
       "3         Griffin Dunne     Sandra Bullock,Nicole Kidman,Stockard Channing   \n",
       "4            Gaspar Noé             Klara Kristin,Aomi Muyock,Karl Glusman   \n",
       "\n",
       "   duration_mins                  genres  \\\n",
       "0          175.0             Crime,Drama   \n",
       "1          169.0  Adventure,Drama,Sci-Fi   \n",
       "2           95.0         Horror,Thriller   \n",
       "3          104.0    Comedy,Drama,Fantasy   \n",
       "4          135.0           Drama,Romance   \n",
       "\n",
       "                                            overview  num_rating  \\\n",
       "0  Don Vito Corleone, head of a mafia family, dec...     2000000   \n",
       "1  When Earth becomes uninhabitable in the future...     2000000   \n",
       "2  When a group of friends discover how to conjur...       81000   \n",
       "3  Two witch sisters, raised by their eccentric a...       90000   \n",
       "4  Murphy is an American living in Paris who ente...       64000   \n",
       "\n",
       "   num_user_review        country  \n",
       "0             5300  United States  \n",
       "1             5500  United States  \n",
       "2              485      Australia  \n",
       "3              313  United States  \n",
       "4              177         France  "
      ]
     },
     "execution_count": 77,
     "metadata": {},
     "output_type": "execute_result"
    }
   ],
   "source": [
    "movies['country'] = movies_raw.country.fillna('Unknown')\n",
    "movies.head()"
   ]
  },
  {
   "cell_type": "code",
   "execution_count": 82,
   "id": "fd902311",
   "metadata": {},
   "outputs": [
    {
     "data": {
      "text/html": [
       "<div>\n",
       "<style scoped>\n",
       "    .dataframe tbody tr th:only-of-type {\n",
       "        vertical-align: middle;\n",
       "    }\n",
       "\n",
       "    .dataframe tbody tr th {\n",
       "        vertical-align: top;\n",
       "    }\n",
       "\n",
       "    .dataframe thead th {\n",
       "        text-align: right;\n",
       "    }\n",
       "</style>\n",
       "<table border=\"1\" class=\"dataframe\">\n",
       "  <thead>\n",
       "    <tr style=\"text-align: right;\">\n",
       "      <th></th>\n",
       "      <th>title</th>\n",
       "      <th>img_url</th>\n",
       "      <th>rating</th>\n",
       "      <th>url</th>\n",
       "      <th>id</th>\n",
       "      <th>year</th>\n",
       "      <th>director</th>\n",
       "      <th>stars</th>\n",
       "      <th>duration_mins</th>\n",
       "      <th>genres</th>\n",
       "      <th>overview</th>\n",
       "      <th>num_rating</th>\n",
       "      <th>num_user_review</th>\n",
       "      <th>country</th>\n",
       "    </tr>\n",
       "  </thead>\n",
       "  <tbody>\n",
       "    <tr>\n",
       "      <th>151</th>\n",
       "      <td>My Neighbor Totoro</td>\n",
       "      <td>https://m.media-amazon.com/images/M/MV5BYzJjMT...</td>\n",
       "      <td>8.1</td>\n",
       "      <td>https://www.imdb.com/title/tt0096283/?ref_=adv...</td>\n",
       "      <td>tt0096283</td>\n",
       "      <td>1988</td>\n",
       "      <td>Hayao Miyazaki</td>\n",
       "      <td>Chika Sakamoto,Noriko Hidaka,Hitoshi Takagi</td>\n",
       "      <td>86.0</td>\n",
       "      <td>Animation,Comedy,Family</td>\n",
       "      <td>When two girls move to the country to be near ...</td>\n",
       "      <td>363000</td>\n",
       "      <td>584</td>\n",
       "      <td>Japan</td>\n",
       "    </tr>\n",
       "    <tr>\n",
       "      <th>221989</th>\n",
       "      <td>My Neighbor Totoro</td>\n",
       "      <td>https://m.media-amazon.com/images/M/MV5BYzJjMT...</td>\n",
       "      <td>8.1</td>\n",
       "      <td>https://www.imdb.com/title/tt0096283/?ref_=adv...</td>\n",
       "      <td>tt0096283</td>\n",
       "      <td>1988</td>\n",
       "      <td>Hayao Miyazaki</td>\n",
       "      <td>Chika Sakamoto,Noriko Hidaka,Hitoshi Takagi</td>\n",
       "      <td>86.0</td>\n",
       "      <td>Animation,Comedy,Family</td>\n",
       "      <td>When two girls move to the country to be near ...</td>\n",
       "      <td>364000</td>\n",
       "      <td>584</td>\n",
       "      <td>Japan</td>\n",
       "    </tr>\n",
       "  </tbody>\n",
       "</table>\n",
       "</div>"
      ],
      "text/plain": [
       "                     title                                            img_url  \\\n",
       "151     My Neighbor Totoro  https://m.media-amazon.com/images/M/MV5BYzJjMT...   \n",
       "221989  My Neighbor Totoro  https://m.media-amazon.com/images/M/MV5BYzJjMT...   \n",
       "\n",
       "        rating                                                url         id  \\\n",
       "151        8.1  https://www.imdb.com/title/tt0096283/?ref_=adv...  tt0096283   \n",
       "221989     8.1  https://www.imdb.com/title/tt0096283/?ref_=adv...  tt0096283   \n",
       "\n",
       "        year        director                                        stars  \\\n",
       "151     1988  Hayao Miyazaki  Chika Sakamoto,Noriko Hidaka,Hitoshi Takagi   \n",
       "221989  1988  Hayao Miyazaki  Chika Sakamoto,Noriko Hidaka,Hitoshi Takagi   \n",
       "\n",
       "        duration_mins                   genres  \\\n",
       "151              86.0  Animation,Comedy,Family   \n",
       "221989           86.0  Animation,Comedy,Family   \n",
       "\n",
       "                                                 overview  num_rating  \\\n",
       "151     When two girls move to the country to be near ...      363000   \n",
       "221989  When two girls move to the country to be near ...      364000   \n",
       "\n",
       "        num_user_review country  \n",
       "151                 584   Japan  \n",
       "221989              584   Japan  "
      ]
     },
     "execution_count": 82,
     "metadata": {},
     "output_type": "execute_result"
    }
   ],
   "source": [
    "movies[movies['url'] == 'https://www.imdb.com/title/tt0096283/?ref_=adv_li_tt']"
   ]
  },
  {
   "cell_type": "code",
   "execution_count": 83,
   "id": "f1084bc0",
   "metadata": {
    "scrolled": true
   },
   "outputs": [
    {
     "data": {
      "text/html": [
       "<div>\n",
       "<style scoped>\n",
       "    .dataframe tbody tr th:only-of-type {\n",
       "        vertical-align: middle;\n",
       "    }\n",
       "\n",
       "    .dataframe tbody tr th {\n",
       "        vertical-align: top;\n",
       "    }\n",
       "\n",
       "    .dataframe thead th {\n",
       "        text-align: right;\n",
       "    }\n",
       "</style>\n",
       "<table border=\"1\" class=\"dataframe\">\n",
       "  <thead>\n",
       "    <tr style=\"text-align: right;\">\n",
       "      <th></th>\n",
       "      <th>title</th>\n",
       "      <th>img_url</th>\n",
       "      <th>rating</th>\n",
       "      <th>url</th>\n",
       "      <th>id</th>\n",
       "      <th>year</th>\n",
       "      <th>director</th>\n",
       "      <th>stars</th>\n",
       "      <th>duration_mins</th>\n",
       "      <th>genres</th>\n",
       "      <th>overview</th>\n",
       "      <th>num_rating</th>\n",
       "      <th>num_user_review</th>\n",
       "      <th>country</th>\n",
       "    </tr>\n",
       "  </thead>\n",
       "  <tbody>\n",
       "    <tr>\n",
       "      <th>0</th>\n",
       "      <td>The Godfather</td>\n",
       "      <td>https://m.media-amazon.com/images/M/MV5BM2MyNj...</td>\n",
       "      <td>9.2</td>\n",
       "      <td>https://www.imdb.com/title/tt0068646/?ref_=adv...</td>\n",
       "      <td>tt0068646</td>\n",
       "      <td>1972</td>\n",
       "      <td>Francis Ford Coppola</td>\n",
       "      <td>Marlon Brando,James Caan,Al Pacino</td>\n",
       "      <td>175.0</td>\n",
       "      <td>Crime,Drama</td>\n",
       "      <td>Don Vito Corleone, head of a mafia family, dec...</td>\n",
       "      <td>2000000</td>\n",
       "      <td>5300</td>\n",
       "      <td>United States</td>\n",
       "    </tr>\n",
       "    <tr>\n",
       "      <th>1</th>\n",
       "      <td>Interstellar</td>\n",
       "      <td>https://m.media-amazon.com/images/M/MV5BZjdkOT...</td>\n",
       "      <td>8.7</td>\n",
       "      <td>https://www.imdb.com/title/tt0816692/?ref_=adv...</td>\n",
       "      <td>tt0816692</td>\n",
       "      <td>2014</td>\n",
       "      <td>Christopher Nolan</td>\n",
       "      <td>Jessica Chastain,Matthew McConaughey,Anne Hath...</td>\n",
       "      <td>169.0</td>\n",
       "      <td>Adventure,Drama,Sci-Fi</td>\n",
       "      <td>When Earth becomes uninhabitable in the future...</td>\n",
       "      <td>2000000</td>\n",
       "      <td>5500</td>\n",
       "      <td>United States</td>\n",
       "    </tr>\n",
       "    <tr>\n",
       "      <th>2</th>\n",
       "      <td>Talk to Me</td>\n",
       "      <td>https://m.media-amazon.com/images/M/MV5BMmY5ZG...</td>\n",
       "      <td>7.2</td>\n",
       "      <td>https://www.imdb.com/title/tt10638522/?ref_=ad...</td>\n",
       "      <td>tt10638522</td>\n",
       "      <td>2022</td>\n",
       "      <td>Danny Philippou</td>\n",
       "      <td>Hamish Phillips,Ari McCarthy,Kit Erhart-Bruce</td>\n",
       "      <td>95.0</td>\n",
       "      <td>Horror,Thriller</td>\n",
       "      <td>When a group of friends discover how to conjur...</td>\n",
       "      <td>81000</td>\n",
       "      <td>485</td>\n",
       "      <td>Australia</td>\n",
       "    </tr>\n",
       "    <tr>\n",
       "      <th>3</th>\n",
       "      <td>Practical Magic</td>\n",
       "      <td>https://m.media-amazon.com/images/M/MV5BMzU4Mm...</td>\n",
       "      <td>6.3</td>\n",
       "      <td>https://www.imdb.com/title/tt0120791/?ref_=adv...</td>\n",
       "      <td>tt0120791</td>\n",
       "      <td>1998</td>\n",
       "      <td>Griffin Dunne</td>\n",
       "      <td>Sandra Bullock,Nicole Kidman,Stockard Channing</td>\n",
       "      <td>104.0</td>\n",
       "      <td>Comedy,Drama,Fantasy</td>\n",
       "      <td>Two witch sisters, raised by their eccentric a...</td>\n",
       "      <td>90000</td>\n",
       "      <td>313</td>\n",
       "      <td>United States</td>\n",
       "    </tr>\n",
       "    <tr>\n",
       "      <th>4</th>\n",
       "      <td>Love</td>\n",
       "      <td>https://m.media-amazon.com/images/M/MV5BZGQxZT...</td>\n",
       "      <td>6.1</td>\n",
       "      <td>https://www.imdb.com/title/tt3774694/?ref_=adv...</td>\n",
       "      <td>tt3774694</td>\n",
       "      <td>2015</td>\n",
       "      <td>Gaspar Noé</td>\n",
       "      <td>Klara Kristin,Aomi Muyock,Karl Glusman</td>\n",
       "      <td>135.0</td>\n",
       "      <td>Drama,Romance</td>\n",
       "      <td>Murphy is an American living in Paris who ente...</td>\n",
       "      <td>64000</td>\n",
       "      <td>177</td>\n",
       "      <td>France</td>\n",
       "    </tr>\n",
       "    <tr>\n",
       "      <th>...</th>\n",
       "      <td>...</td>\n",
       "      <td>...</td>\n",
       "      <td>...</td>\n",
       "      <td>...</td>\n",
       "      <td>...</td>\n",
       "      <td>...</td>\n",
       "      <td>...</td>\n",
       "      <td>...</td>\n",
       "      <td>...</td>\n",
       "      <td>...</td>\n",
       "      <td>...</td>\n",
       "      <td>...</td>\n",
       "      <td>...</td>\n",
       "      <td>...</td>\n",
       "    </tr>\n",
       "    <tr>\n",
       "      <th>222164</th>\n",
       "      <td>The Godfather Part II</td>\n",
       "      <td>https://m.media-amazon.com/images/M/MV5BMWMwMG...</td>\n",
       "      <td>9.0</td>\n",
       "      <td>https://www.imdb.com/title/tt0071562/?ref_=adv...</td>\n",
       "      <td>tt0071562</td>\n",
       "      <td>1974</td>\n",
       "      <td>Francis Ford Coppola</td>\n",
       "      <td>Robert Duvall,Robert De Niro,Al Pacino</td>\n",
       "      <td>202.0</td>\n",
       "      <td>Crime,Drama</td>\n",
       "      <td>The early life and career of Vito Corleone in ...</td>\n",
       "      <td>1300000</td>\n",
       "      <td>1300</td>\n",
       "      <td>United States</td>\n",
       "    </tr>\n",
       "    <tr>\n",
       "      <th>222165</th>\n",
       "      <td>12 Angry Men</td>\n",
       "      <td>https://m.media-amazon.com/images/M/MV5BMWU4N2...</td>\n",
       "      <td>9.0</td>\n",
       "      <td>https://www.imdb.com/title/tt0050083/?ref_=adv...</td>\n",
       "      <td>tt0050083</td>\n",
       "      <td>1957</td>\n",
       "      <td>Sidney Lumet</td>\n",
       "      <td>Henry Fonda,Martin Balsam,Lee J. Cobb</td>\n",
       "      <td>96.0</td>\n",
       "      <td>Crime,Drama</td>\n",
       "      <td>The jury in a New York City murder trial is fr...</td>\n",
       "      <td>837000</td>\n",
       "      <td>2100</td>\n",
       "      <td>United States</td>\n",
       "    </tr>\n",
       "    <tr>\n",
       "      <th>222166</th>\n",
       "      <td>The Lord of the Rings: The Return of the King</td>\n",
       "      <td>https://m.media-amazon.com/images/M/MV5BNzA5ZD...</td>\n",
       "      <td>9.0</td>\n",
       "      <td>https://www.imdb.com/title/tt0167260/?ref_=adv...</td>\n",
       "      <td>tt0167260</td>\n",
       "      <td>2003</td>\n",
       "      <td>Peter Jackson</td>\n",
       "      <td>Ian McKellen,Elijah Wood,Viggo Mortensen</td>\n",
       "      <td>201.0</td>\n",
       "      <td>Action,Adventure,Drama</td>\n",
       "      <td>Gandalf and Aragorn lead the World of Men agai...</td>\n",
       "      <td>1900000</td>\n",
       "      <td>4100</td>\n",
       "      <td>New Zealand</td>\n",
       "    </tr>\n",
       "    <tr>\n",
       "      <th>222167</th>\n",
       "      <td>Schindler's List</td>\n",
       "      <td>https://m.media-amazon.com/images/M/MV5BNDE4OT...</td>\n",
       "      <td>9.0</td>\n",
       "      <td>https://www.imdb.com/title/tt0108052/?ref_=adv...</td>\n",
       "      <td>tt0108052</td>\n",
       "      <td>1993</td>\n",
       "      <td>Steven Spielberg</td>\n",
       "      <td>Ben Kingsley,Ralph Fiennes,Liam Neeson</td>\n",
       "      <td>195.0</td>\n",
       "      <td>Biography,Drama,History</td>\n",
       "      <td>In German-occupied Poland during World War II,...</td>\n",
       "      <td>1400000</td>\n",
       "      <td>2200</td>\n",
       "      <td>United States</td>\n",
       "    </tr>\n",
       "    <tr>\n",
       "      <th>222168</th>\n",
       "      <td>The Dark Knight</td>\n",
       "      <td>https://m.media-amazon.com/images/M/MV5BMTMxNT...</td>\n",
       "      <td>9.0</td>\n",
       "      <td>https://www.imdb.com/title/tt0468569/?ref_=adv...</td>\n",
       "      <td>tt0468569</td>\n",
       "      <td>2008</td>\n",
       "      <td>Christopher Nolan</td>\n",
       "      <td>Heath Ledger,Christian Bale,Aaron Eckhart</td>\n",
       "      <td>152.0</td>\n",
       "      <td>Action,Crime,Drama</td>\n",
       "      <td>When the menace known as the Joker wreaks havo...</td>\n",
       "      <td>2800000</td>\n",
       "      <td>8500</td>\n",
       "      <td>United States</td>\n",
       "    </tr>\n",
       "  </tbody>\n",
       "</table>\n",
       "<p>222156 rows × 14 columns</p>\n",
       "</div>"
      ],
      "text/plain": [
       "                                                title  \\\n",
       "0                                       The Godfather   \n",
       "1                                        Interstellar   \n",
       "2                                          Talk to Me   \n",
       "3                                     Practical Magic   \n",
       "4                                                Love   \n",
       "...                                               ...   \n",
       "222164                          The Godfather Part II   \n",
       "222165                                   12 Angry Men   \n",
       "222166  The Lord of the Rings: The Return of the King   \n",
       "222167                               Schindler's List   \n",
       "222168                                The Dark Knight   \n",
       "\n",
       "                                                  img_url  rating  \\\n",
       "0       https://m.media-amazon.com/images/M/MV5BM2MyNj...     9.2   \n",
       "1       https://m.media-amazon.com/images/M/MV5BZjdkOT...     8.7   \n",
       "2       https://m.media-amazon.com/images/M/MV5BMmY5ZG...     7.2   \n",
       "3       https://m.media-amazon.com/images/M/MV5BMzU4Mm...     6.3   \n",
       "4       https://m.media-amazon.com/images/M/MV5BZGQxZT...     6.1   \n",
       "...                                                   ...     ...   \n",
       "222164  https://m.media-amazon.com/images/M/MV5BMWMwMG...     9.0   \n",
       "222165  https://m.media-amazon.com/images/M/MV5BMWU4N2...     9.0   \n",
       "222166  https://m.media-amazon.com/images/M/MV5BNzA5ZD...     9.0   \n",
       "222167  https://m.media-amazon.com/images/M/MV5BNDE4OT...     9.0   \n",
       "222168  https://m.media-amazon.com/images/M/MV5BMTMxNT...     9.0   \n",
       "\n",
       "                                                      url          id  year  \\\n",
       "0       https://www.imdb.com/title/tt0068646/?ref_=adv...   tt0068646  1972   \n",
       "1       https://www.imdb.com/title/tt0816692/?ref_=adv...   tt0816692  2014   \n",
       "2       https://www.imdb.com/title/tt10638522/?ref_=ad...  tt10638522  2022   \n",
       "3       https://www.imdb.com/title/tt0120791/?ref_=adv...   tt0120791  1998   \n",
       "4       https://www.imdb.com/title/tt3774694/?ref_=adv...   tt3774694  2015   \n",
       "...                                                   ...         ...   ...   \n",
       "222164  https://www.imdb.com/title/tt0071562/?ref_=adv...   tt0071562  1974   \n",
       "222165  https://www.imdb.com/title/tt0050083/?ref_=adv...   tt0050083  1957   \n",
       "222166  https://www.imdb.com/title/tt0167260/?ref_=adv...   tt0167260  2003   \n",
       "222167  https://www.imdb.com/title/tt0108052/?ref_=adv...   tt0108052  1993   \n",
       "222168  https://www.imdb.com/title/tt0468569/?ref_=adv...   tt0468569  2008   \n",
       "\n",
       "                    director  \\\n",
       "0       Francis Ford Coppola   \n",
       "1          Christopher Nolan   \n",
       "2            Danny Philippou   \n",
       "3              Griffin Dunne   \n",
       "4                 Gaspar Noé   \n",
       "...                      ...   \n",
       "222164  Francis Ford Coppola   \n",
       "222165          Sidney Lumet   \n",
       "222166         Peter Jackson   \n",
       "222167      Steven Spielberg   \n",
       "222168     Christopher Nolan   \n",
       "\n",
       "                                                    stars  duration_mins  \\\n",
       "0                      Marlon Brando,James Caan,Al Pacino          175.0   \n",
       "1       Jessica Chastain,Matthew McConaughey,Anne Hath...          169.0   \n",
       "2           Hamish Phillips,Ari McCarthy,Kit Erhart-Bruce           95.0   \n",
       "3          Sandra Bullock,Nicole Kidman,Stockard Channing          104.0   \n",
       "4                  Klara Kristin,Aomi Muyock,Karl Glusman          135.0   \n",
       "...                                                   ...            ...   \n",
       "222164             Robert Duvall,Robert De Niro,Al Pacino          202.0   \n",
       "222165              Henry Fonda,Martin Balsam,Lee J. Cobb           96.0   \n",
       "222166           Ian McKellen,Elijah Wood,Viggo Mortensen          201.0   \n",
       "222167             Ben Kingsley,Ralph Fiennes,Liam Neeson          195.0   \n",
       "222168          Heath Ledger,Christian Bale,Aaron Eckhart          152.0   \n",
       "\n",
       "                         genres  \\\n",
       "0                   Crime,Drama   \n",
       "1        Adventure,Drama,Sci-Fi   \n",
       "2               Horror,Thriller   \n",
       "3          Comedy,Drama,Fantasy   \n",
       "4                 Drama,Romance   \n",
       "...                         ...   \n",
       "222164              Crime,Drama   \n",
       "222165              Crime,Drama   \n",
       "222166   Action,Adventure,Drama   \n",
       "222167  Biography,Drama,History   \n",
       "222168       Action,Crime,Drama   \n",
       "\n",
       "                                                 overview  num_rating  \\\n",
       "0       Don Vito Corleone, head of a mafia family, dec...     2000000   \n",
       "1       When Earth becomes uninhabitable in the future...     2000000   \n",
       "2       When a group of friends discover how to conjur...       81000   \n",
       "3       Two witch sisters, raised by their eccentric a...       90000   \n",
       "4       Murphy is an American living in Paris who ente...       64000   \n",
       "...                                                   ...         ...   \n",
       "222164  The early life and career of Vito Corleone in ...     1300000   \n",
       "222165  The jury in a New York City murder trial is fr...      837000   \n",
       "222166  Gandalf and Aragorn lead the World of Men agai...     1900000   \n",
       "222167  In German-occupied Poland during World War II,...     1400000   \n",
       "222168  When the menace known as the Joker wreaks havo...     2800000   \n",
       "\n",
       "        num_user_review        country  \n",
       "0                  5300  United States  \n",
       "1                  5500  United States  \n",
       "2                   485      Australia  \n",
       "3                   313  United States  \n",
       "4                   177         France  \n",
       "...                 ...            ...  \n",
       "222164             1300  United States  \n",
       "222165             2100  United States  \n",
       "222166             4100    New Zealand  \n",
       "222167             2200  United States  \n",
       "222168             8500  United States  \n",
       "\n",
       "[222156 rows x 14 columns]"
      ]
     },
     "execution_count": 83,
     "metadata": {},
     "output_type": "execute_result"
    }
   ],
   "source": [
    "movies = movies.drop_duplicates(subset=['id'], keep='last')\n",
    "movies"
   ]
  },
  {
   "cell_type": "code",
   "execution_count": 84,
   "id": "c8be6496",
   "metadata": {},
   "outputs": [
    {
     "data": {
      "text/plain": [
       "139315"
      ]
     },
     "execution_count": 84,
     "metadata": {},
     "output_type": "execute_result"
    }
   ],
   "source": [
    "movie_num = len(movies)\n",
    "len(movies[movies.isnull().any(axis=1)])"
   ]
  },
  {
   "cell_type": "code",
   "execution_count": 85,
   "id": "464b1c06",
   "metadata": {},
   "outputs": [
    {
     "name": "stdout",
     "output_type": "stream",
     "text": [
      "<class 'pandas.core.frame.DataFrame'>\n",
      "Int64Index: 222156 entries, 0 to 222168\n",
      "Data columns (total 14 columns):\n",
      " #   Column           Non-Null Count   Dtype  \n",
      "---  ------           --------------   -----  \n",
      " 0   title            222156 non-null  object \n",
      " 1   img_url          222156 non-null  object \n",
      " 2   rating           98484 non-null   float64\n",
      " 3   url              222156 non-null  object \n",
      " 4   id               222156 non-null  object \n",
      " 5   year             222156 non-null  int32  \n",
      " 6   director         222156 non-null  object \n",
      " 7   stars            222156 non-null  object \n",
      " 8   duration_mins    145456 non-null  float64\n",
      " 9   genres           222156 non-null  object \n",
      " 10  overview         222156 non-null  object \n",
      " 11  num_rating       222156 non-null  int32  \n",
      " 12  num_user_review  222156 non-null  int32  \n",
      " 13  country          222156 non-null  object \n",
      "dtypes: float64(2), int32(3), object(9)\n",
      "memory usage: 22.9+ MB\n"
     ]
    }
   ],
   "source": [
    "movies.info()"
   ]
  },
  {
   "cell_type": "code",
   "execution_count": 87,
   "id": "7b76cd97",
   "metadata": {},
   "outputs": [
    {
     "data": {
      "text/html": [
       "<div>\n",
       "<style scoped>\n",
       "    .dataframe tbody tr th:only-of-type {\n",
       "        vertical-align: middle;\n",
       "    }\n",
       "\n",
       "    .dataframe tbody tr th {\n",
       "        vertical-align: top;\n",
       "    }\n",
       "\n",
       "    .dataframe thead th {\n",
       "        text-align: right;\n",
       "    }\n",
       "</style>\n",
       "<table border=\"1\" class=\"dataframe\">\n",
       "  <thead>\n",
       "    <tr style=\"text-align: right;\">\n",
       "      <th></th>\n",
       "      <th>rating</th>\n",
       "      <th>year</th>\n",
       "      <th>duration_mins</th>\n",
       "      <th>num_rating</th>\n",
       "      <th>num_user_review</th>\n",
       "    </tr>\n",
       "  </thead>\n",
       "  <tbody>\n",
       "    <tr>\n",
       "      <th>count</th>\n",
       "      <td>98484.000000</td>\n",
       "      <td>222156.000000</td>\n",
       "      <td>145456.00000</td>\n",
       "      <td>2.221560e+05</td>\n",
       "      <td>222156.000000</td>\n",
       "    </tr>\n",
       "    <tr>\n",
       "      <th>mean</th>\n",
       "      <td>6.048577</td>\n",
       "      <td>1798.450382</td>\n",
       "      <td>91.42177</td>\n",
       "      <td>1.267880e+03</td>\n",
       "      <td>4.274996</td>\n",
       "    </tr>\n",
       "    <tr>\n",
       "      <th>std</th>\n",
       "      <td>1.392254</td>\n",
       "      <td>570.540090</td>\n",
       "      <td>38.83466</td>\n",
       "      <td>3.177222e+04</td>\n",
       "      <td>84.319348</td>\n",
       "    </tr>\n",
       "    <tr>\n",
       "      <th>min</th>\n",
       "      <td>1.000000</td>\n",
       "      <td>2.000000</td>\n",
       "      <td>1.00000</td>\n",
       "      <td>0.000000e+00</td>\n",
       "      <td>0.000000</td>\n",
       "    </tr>\n",
       "    <tr>\n",
       "      <th>25%</th>\n",
       "      <td>5.200000</td>\n",
       "      <td>1975.000000</td>\n",
       "      <td>77.00000</td>\n",
       "      <td>0.000000e+00</td>\n",
       "      <td>0.000000</td>\n",
       "    </tr>\n",
       "    <tr>\n",
       "      <th>50%</th>\n",
       "      <td>6.100000</td>\n",
       "      <td>2001.000000</td>\n",
       "      <td>90.00000</td>\n",
       "      <td>0.000000e+00</td>\n",
       "      <td>0.000000</td>\n",
       "    </tr>\n",
       "    <tr>\n",
       "      <th>75%</th>\n",
       "      <td>7.000000</td>\n",
       "      <td>2014.000000</td>\n",
       "      <td>101.00000</td>\n",
       "      <td>2.300000e+01</td>\n",
       "      <td>0.000000</td>\n",
       "    </tr>\n",
       "    <tr>\n",
       "      <th>max</th>\n",
       "      <td>10.000000</td>\n",
       "      <td>2023.000000</td>\n",
       "      <td>7200.00000</td>\n",
       "      <td>2.800000e+06</td>\n",
       "      <td>11400.000000</td>\n",
       "    </tr>\n",
       "  </tbody>\n",
       "</table>\n",
       "</div>"
      ],
      "text/plain": [
       "             rating           year  duration_mins    num_rating  \\\n",
       "count  98484.000000  222156.000000   145456.00000  2.221560e+05   \n",
       "mean       6.048577    1798.450382       91.42177  1.267880e+03   \n",
       "std        1.392254     570.540090       38.83466  3.177222e+04   \n",
       "min        1.000000       2.000000        1.00000  0.000000e+00   \n",
       "25%        5.200000    1975.000000       77.00000  0.000000e+00   \n",
       "50%        6.100000    2001.000000       90.00000  0.000000e+00   \n",
       "75%        7.000000    2014.000000      101.00000  2.300000e+01   \n",
       "max       10.000000    2023.000000     7200.00000  2.800000e+06   \n",
       "\n",
       "       num_user_review  \n",
       "count    222156.000000  \n",
       "mean          4.274996  \n",
       "std          84.319348  \n",
       "min           0.000000  \n",
       "25%           0.000000  \n",
       "50%           0.000000  \n",
       "75%           0.000000  \n",
       "max       11400.000000  "
      ]
     },
     "execution_count": 87,
     "metadata": {},
     "output_type": "execute_result"
    }
   ],
   "source": [
    "movies.describe()"
   ]
  },
  {
   "cell_type": "code",
   "execution_count": null,
   "id": "5eb0af48",
   "metadata": {},
   "outputs": [],
   "source": [
    "movies.to_csv('movies_cleaned.csv')"
   ]
  },
  {
   "cell_type": "code",
   "execution_count": null,
   "id": "6a9bafcc",
   "metadata": {},
   "outputs": [],
   "source": []
  }
 ],
 "metadata": {
  "kernelspec": {
   "display_name": "Python [conda env:root] *",
   "language": "python",
   "name": "conda-root-py"
  },
  "language_info": {
   "codemirror_mode": {
    "name": "ipython",
    "version": 3
   },
   "file_extension": ".py",
   "mimetype": "text/x-python",
   "name": "python",
   "nbconvert_exporter": "python",
   "pygments_lexer": "ipython3",
   "version": "3.9.12"
  }
 },
 "nbformat": 4,
 "nbformat_minor": 5
}
